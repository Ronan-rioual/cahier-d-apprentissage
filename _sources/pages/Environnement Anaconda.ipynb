{
 "cells": [
  {
   "cell_type": "markdown",
   "metadata": {},
   "source": [
    "Environnement virtuel:\n",
    "Un environnement virtuel est un environnement...virtuel"
   ]
  },
  {
   "cell_type": "markdown",
   "metadata": {},
   "source": [
    "## Site ressource pour les environnements virtuels avec anaconda\n",
    "\n",
    "https://riptutorial.com/fr/python/example/10797/creer-des-environnements-virtuels-avec-anaconda"
   ]
  },
  {
   "cell_type": "markdown",
   "metadata": {},
   "source": [
    "## exemple de création d'environnement virtuel:"
   ]
  },
  {
   "cell_type": "markdown",
   "metadata": {},
   "source": [
    "`conda create --name <envname> python=<version>`"
   ]
  },
  {
   "cell_type": "markdown",
   "metadata": {},
   "source": [
    "## Environnment en python 3.6\n",
    "\n",
    "![création environnement](..\\images\\env_conda_py3.6.png)"
   ]
  },
  {
   "cell_type": "markdown",
   "metadata": {},
   "source": [
    "## Environnement en python 3.7\n",
    "\n",
    "![création environnement](..\\images\\env_conda_3.7.png)"
   ]
  },
  {
   "cell_type": "markdown",
   "metadata": {},
   "source": [
    "## Lister les environnement :\n",
    "\n",
    "![liste des environnements](..\\images\\liste_env.png)"
   ]
  },
  {
   "cell_type": "markdown",
   "metadata": {},
   "source": [
    "## Activer un environnement :\n",
    "\n",
    "![création environnement](..\\images\\activer_env.png)"
   ]
  },
  {
   "cell_type": "markdown",
   "metadata": {},
   "source": [
    "## Lister les modules:\n",
    "\n",
    "![création environnement](..\\images\\list_modules.png)\n",
    "\n",
    "Ou alors : conda list     quand l'environnement est déjà activé"
   ]
  },
  {
   "cell_type": "markdown",
   "metadata": {},
   "source": [
    "## Ajouter un module\n",
    "    \n",
    "avec conda :\n",
    "\n",
    "![ajouter module](..\\images\\install_module.png)\n",
    "\n",
    "avec pip :\n",
    "\n",
    "![ajouter module](..\\images\\install_module_pip.png)"
   ]
  },
  {
   "cell_type": "markdown",
   "metadata": {},
   "source": [
    "## Qu'est ce qu'un fichier YAML ?\n",
    "\n",
    "YAML est un format de fichier texte pour la sérialisation des données, très utilisé dans la communauté Ruby. YAML vous servira aussi bien pour enregistrer l’état d’une application que pour les fichiers de configuration. Il existe des bibliothèques YAML pour un tas de langages majeurs : C, C++, Ruby, Python, Java, Perl, C#, Javascript, Php, etc…\n"
   ]
  },
  {
   "cell_type": "markdown",
   "metadata": {},
   "source": [
    "## Créer un environnement à partir d'un fichier YAML :\n",
    "\n",
    "``conda env create -f backup-testenv2.yml``"
   ]
  },
  {
   "cell_type": "markdown",
   "metadata": {},
   "source": [
    "## export d'un environnement à partir d'un fichier YAML\n",
    "\n",
    "   ``conda env export > environment.yml``"
   ]
  },
  {
   "cell_type": "markdown",
   "metadata": {},
   "source": [
    "## Executer un fichier python depuis Annaconda :\n",
    "\n",
    "Depuis annaconda prompt, se placer dans le dossier ou se trouve notre fichier python puis executer la commande suivante :\n",
    "\n",
    "``python myfile.py``\n",
    "    "
   ]
  },
  {
   "cell_type": "markdown",
   "metadata": {},
   "source": [
    "## Activer un environnement puis lancer un fichier python depuis un .bat\n",
    "\n",
    "Il suffit de se placer dans le bon répertoire puis de saisir le nom du fichier dans Annaconda prompt."
   ]
  },
  {
   "cell_type": "code",
   "execution_count": null,
   "metadata": {},
   "outputs": [],
   "source": []
  }
 ],
 "metadata": {
  "kernelspec": {
   "display_name": "Python 3",
   "language": "python",
   "name": "python3"
  },
  "language_info": {
   "codemirror_mode": {
    "name": "ipython",
    "version": 3
   },
   "file_extension": ".py",
   "mimetype": "text/x-python",
   "name": "python",
   "nbconvert_exporter": "python",
   "pygments_lexer": "ipython3",
   "version": "3.8.3"
  }
 },
 "nbformat": 4,
 "nbformat_minor": 4
}
