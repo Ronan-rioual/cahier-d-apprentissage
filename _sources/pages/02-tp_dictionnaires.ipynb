{
 "cells": [
  {
   "cell_type": "markdown",
   "metadata": {},
   "source": [
    "# TP sur les dictionnaires et les sets\n",
    "\n",
    "## TP : Magasin en ligne\n",
    "\n",
    "Dans cet exercice, nous nous familiarisons avec les manipulations de dictionnaires sur une thématique de magasin en ligne.\n",
    "«Chez Geek and sons tout ce qui est inutile peut s'acheter, et tout ce qui peut s’acheter est un peu trop cher.»\n",
    "\n",
    "La base de prix des produits de Geek and sons est représentée en Python par un dictionnaire avec :\n",
    "\n",
    "- les noms de produits, de type `str`, comme clés.\n",
    "- les prix des produits, de type `float`, comme valeurs associées.\n",
    "\n",
    "**Attention : bien respecter l'ordre de présentation du code :**\n",
    "\n",
    "1. Les imports\n",
    "2. Les fonctions\n",
    "3. Le programme principal"
   ]
  },
  {
   "cell_type": "markdown",
   "metadata": {},
   "source": [
    "### Question 1\n",
    "Donner une expression d'un dictionnaire en Python qui permet de construire la base des produits correspondant à la\n",
    "table suivante :\n",
    "    \n",
    "```\n",
    "| Nom du produit     | Prix TTC |\n",
    "| Sabre Laser        | 229      |\n",
    "| Mitendo DX         | 127.30   |\n",
    "| Coussin Linux      |  74.50   |\n",
    "| Slip Goldorak      |  29.90   |\n",
    "| Station Nextpresso | 184.60   |\n",
    "```"
   ]
  },
  {
   "cell_type": "code",
   "execution_count": 1,
   "metadata": {
    "tags": [
     "remove-cell"
    ]
   },
   "outputs": [
    {
     "name": "stdout",
     "output_type": "stream",
     "text": [
      "{'Sabre laser': 229, 'Mitendo DX': 127.3, 'Coussin Linux': 74.5, 'Slip Goldorak': 29.9, 'Station Nextpresso': 184.6}\n"
     ]
    }
   ],
   "source": [
    "dictionnaire = {\"Sabre Laser\" : 229, \"Mitendo DX\" : 127.30, \"Coussin Linux\" : 74.50, \"Slip Goldorak\" : 29.90, \"Station Nextpresso\" : 184.60}\n",
    "print(dictionnaire)"
   ]
  },
  {
   "cell_type": "markdown",
   "metadata": {},
   "source": [
    "### Question 2\n",
    "Écrire la fonction `disponibilite` qui étant donnés un nom de produit\n",
    "et une base de produits, retourne `True` si le produit est présent dans la base, ou `False` sinon.\n",
    "\n",
    "```python\n",
    "def disponibilite(nom_prod, base_prod):\n",
    "    ...\n",
    "```"
   ]
  },
  {
   "cell_type": "code",
   "execution_count": 164,
   "metadata": {},
   "outputs": [
    {
     "name": "stdout",
     "output_type": "stream",
     "text": [
      "quel produit recherchez-vous ?Sabre Laser\n"
     ]
    },
    {
     "data": {
      "text/plain": [
       "True"
      ]
     },
     "execution_count": 164,
     "metadata": {},
     "output_type": "execute_result"
    }
   ],
   "source": [
    "dictionnaire = {\"Sabre Laser\" : 229, \"Mitendo DX\" : 127.30, \"Coussin Linux\" : 74.50, \"Slip Goldorak\" : 29.90, \"Station Nextpresso\" : 184.60}\n",
    "\n",
    "def disponibilite(nom_prod, base_prod):\n",
    "    if nom_prod in base_prod.keys():\n",
    "        return True\n",
    "    else:\n",
    "        return False\n",
    "    \n",
    "demande = input(\"quel produit recherchez-vous ?\")\n",
    "disponibilite(demande, dictionnaire)    "
   ]
  },
  {
   "cell_type": "markdown",
   "metadata": {},
   "source": [
    "### Question 3\n",
    "Écrire la fonction `prix_moyen` qui, étant donnée une base de produits (contenant\n",
    "au moins un produit), retourne le prix moyen des produits disponibles.\n",
    "\n",
    "```python\n",
    "def prix_moyen(base_prod):\n",
    "    ...\n",
    "```"
   ]
  },
  {
   "cell_type": "code",
   "execution_count": 166,
   "metadata": {},
   "outputs": [
    {
     "name": "stdout",
     "output_type": "stream",
     "text": [
      "129.06\n"
     ]
    }
   ],
   "source": [
    "dictionnaire = {\"Sabre Laser\" : 229, \"Mitendo DX\" : 127.30, \"Coussin Linux\" : 74.50, \"Slip Goldorak\" : 29.90, \"Station Nextpresso\" : 184.60}\n",
    "def prix_moyen(base_prod):\n",
    "    somme = 0\n",
    "    for prix in base_prod.values():\n",
    "        somme += prix\n",
    "    return somme/len(base_prod)\n",
    "\n",
    "    \n",
    "print(prix_moyen(dictionnaire))\n",
    "    "
   ]
  },
  {
   "cell_type": "markdown",
   "metadata": {},
   "source": [
    "### Question 4\n",
    "Écrire la fonction `fourchette_prix` qui, étant donnés un prix minimum\n",
    "mini, un prix maximum maxi et une base de produits, retourne l'ensemble des noms de produits\n",
    "disponibles dans cette fourchette de prix.\n",
    "\n",
    "```python\n",
    "def fourchette_prix(prix_min, prix_max, base_prod):\n",
    "    ...\n",
    "```"
   ]
  },
  {
   "cell_type": "code",
   "execution_count": 167,
   "metadata": {},
   "outputs": [
    {
     "name": "stdout",
     "output_type": "stream",
     "text": [
      "Entrez le prix minimum1\n",
      "Entrez le prix maximum200\n",
      "Mitendo DX\n",
      "Coussin Linux\n",
      "Slip Goldorak\n",
      "Station Nextpresso\n"
     ]
    }
   ],
   "source": [
    "dictionnaire = {\"Sabre Laser\" : 229, \"Mitendo DX\" : 127.30, \"Coussin Linux\" : 74.50, \"Slip Goldorak\" : 29.90, \"Station Nextpresso\" : 184.60}\n",
    "\n",
    "def fourchette_prix(prix_min, prix_max, base_prod):\n",
    "    for cle, valeur in base_prod.items():\n",
    "            if (valeur >= prix_min) and (valeur <=  prix_max):\n",
    "                print(cle)\n",
    "        \n",
    "            \n",
    "    \n",
    "prix_min = int(input(\"Entrez le prix minimum\"))\n",
    "prix_max = int(input(\"Entrez le prix maximum\"))\n",
    "fourchette_prix(prix_min, prix_max, dictionnaire)"
   ]
  },
  {
   "cell_type": "markdown",
   "metadata": {},
   "source": [
    "### Question 5\n",
    "Le panier est un concept omniprésent dans les sites marchands, Geeks and sons n’échappe pas à la règle. En Python, le panier du client sera représenté par un dictionnaire, avec :\n",
    "\n",
    "- les noms de produits comme clés.\n",
    "- une quantité d'achat comme valeurs associées.\n",
    "\n",
    "Donner une expression Python correspondant à l'achat de 3 sabres lasers, de 2 coussins Linux\n",
    "et de 1 slip Goldorak."
   ]
  },
  {
   "cell_type": "code",
   "execution_count": null,
   "metadata": {},
   "outputs": [],
   "source": [
    "achats = {\"Sabre Laser\" : 3, \"Coussin Linux\" : 2, \"Slip Goldorak\" : 1}"
   ]
  },
  {
   "cell_type": "markdown",
   "metadata": {},
   "source": [
    "### Question 6\n",
    "Écrire la fonction `tous_disponibles` qui, étant donnés un panier d'achat et une base de produits, retourne `True` si tous les produits demandés sont disponibles, ou `False` sinon.\n",
    "\n",
    "```python\n",
    "def tous_disponibles(panier_achat, base_prod):\n",
    "    ...\n",
    "```"
   ]
  },
  {
   "cell_type": "code",
   "execution_count": 112,
   "metadata": {},
   "outputs": [
    {
     "data": {
      "text/plain": [
       "True"
      ]
     },
     "execution_count": 112,
     "metadata": {},
     "output_type": "execute_result"
    }
   ],
   "source": [
    "dictionnaire = {\"Sabre Laser\" : 229, \"Mitendo DX\" : 127.30, \"Coussin Linux\" : 74.50, \"Slip Goldorak\" : 29.90, \"Station Nextpresso\" : 184.60}\n",
    "achats = {\"Sabre Laser\" : 3, \"Coussin Linux\" : 2, \"Slip Goldorak\" : 1}\n",
    "\n",
    "def tous_disponibles(panier_achat, base_prod):\n",
    "    for key in panier_achat.keys():\n",
    "        if key not in base_prod.keys():\n",
    "            return False\n",
    "    return True  \n",
    "    \n",
    "tous_disponibles(achats, dictionnaire)\n",
    "    "
   ]
  },
  {
   "cell_type": "markdown",
   "metadata": {},
   "source": [
    "### Question 7\n",
    "Écrire la fonction `prix_achats` qui, étant donnés un panier d'achat et une base de produits, retourne le prix total correspondant.\n",
    "\n",
    "- Faire une version qui suppose que tous les articles du panier sont disponibles dans la base des produits.\n",
    "- Proposer une version qui renvoie une erreur si l'article du panier ne peut être trouvé dans la base.\n",
    "\n",
    "```python\n",
    "def prix_achats(panier_achat, base_prod):\n",
    "    ...\n",
    "```"
   ]
  },
  {
   "cell_type": "code",
   "execution_count": 171,
   "metadata": {},
   "outputs": [
    {
     "name": "stdout",
     "output_type": "stream",
     "text": [
      "L'article JDG n'est pas disponible\n",
      "le total est de 865.9\n"
     ]
    }
   ],
   "source": [
    "dictionnaire = {\"Sabre Laser\" : 229, \"Mitendo DX\" : 127.30, \"Coussin Linux\" : 74.50, \"Slip Goldorak\" : 29.90, \"Station Nextpresso\" : 184.60}\n",
    "achats = {\"Sabre Laser\" : 3, \"Coussin Linux\" : 2, \"Slip Goldorak\" : 1, \"JDG\" : 1}\n",
    "\n",
    "\n",
    "\n",
    "def prix_achats(panier_achat, base_prod):\n",
    "    somme = 0 \n",
    "    for cle, quantite in panier_achat.items():\n",
    "        if cle not in base_prod.keys():\n",
    "            print(f\"L'article {cle} n'est pas disponible\")\n",
    "        else:\n",
    "            prix = base_prod[cle]\n",
    "            somme += (quantite * prix)\n",
    "    print(\"le total est de\", somme)\n",
    "   \n",
    "prix_achats(achats, dictionnaire)    "
   ]
  },
  {
   "cell_type": "markdown",
   "metadata": {},
   "source": [
    "## TP : recettes de cuisine\n",
    "Dans cet exercice, on s'intéresse à la définition de fonctions permettant de manipuler un livre\n",
    "de recettes de cuisine. Comme tout bon livre de recettes qui se respecte, chaque recette décrit\n",
    "notamment l'ensemble des ingrédients qui la composent. À titre d’exemple, un livre de\n",
    "recettes de desserts pourrait contenir les informations suivantes :\n",
    "\n",
    "```\n",
    "|--------------------|----------------------------------------|\n",
    "| Recette            | Ingrédients                            |\n",
    "|--------------------|-----------------------------------------\n",
    "| Gâteau au chocolat | chocolat, oeufs, farine, sucre, beurre |\n",
    "| Gâteau au yaourt   | yaourt, oeufs, farine, sucre           |\n",
    "| Crêpes             | oeufs, farine, lait                    |\n",
    "| Quatre-quarts      | oeufs, farine, sucre, beurre           |\n",
    "| Kouign Amann       | farine, sucre, beurre                  |\n",
    "```\n",
    "\n",
    "Un livre de recettes est donc représenté en Python par un dictionnaire avec :\n",
    "\n",
    "- les noms des recettes, de type `str`, comme clés.\n",
    "- l'ensemble des ingrédients, de type `set` (chaque ingrédient du `set` étant un `str`)."
   ]
  },
  {
   "cell_type": "markdown",
   "metadata": {},
   "source": [
    "### Présentation des sets\n",
    "\n",
    "Inspiration : https://python.sdv.univ-paris-diderot.fr/13_dictionnaires_tuples_sets/\n",
    "\n",
    "Les variables de type `set` représentent un autre type d'objet séquentiel qui peut se révéler très pratique. Ils ont la particularité d'être **non modifiables**, **non ordonnés** et de ne contenir que des éléments ont la **valeur est unique**. Pour créer un nouveau set on peut utiliser les accolades :\n",
    "\n",
    "```python\n",
    ">>> s = {1, 2, 3, 3}\n",
    ">>> s\n",
    "{1, 2, 3}\n",
    ">>> type(s)\n",
    "<class 'set'>\n",
    "```\n",
    "\n",
    "Notez que :\n",
    "\n",
    "- La répétition du 3 dans la définition du set en ligne 1 donne au final un seul 3 car chaque élément ne peut être présent qu'une seule fois. \n",
    "\n",
    "- Les set et et les dictionnaires utilisent tous les deux des accolades. Cependant, le set sera défini seulement par des valeurs comme `{val1, val2, ...}` alors que le dictionnaire aura toujours des couples clé/valeur `{clé1: val1, clé2: val2, ...}`.\n",
    "\n",
    "```python\n",
    "s1 = {1, 2, 3}\n",
    ">>> type(s1)\n",
    "<class 'set'>\n",
    "d1 = {'a1': 1, 'a2': 2}\n",
    ">>> type(d1)\n",
    "<class 'dict'>\n",
    "```\n",
    "\n",
    "Pour initialiser un set vide, on ne peut pas utiliser `{}` car il y a confusion avec les dictionnaires. Ainsi on utilisera simplement la fonction `set()`.\n",
    "\n",
    "```python\n",
    "s = set()\n",
    "```\n",
    "\n",
    "De plus la fonction `set()` peut prendre en argument n'importe quel objet itérable (c'est à dire qu'on peut parcourir) et le convertit en set (opération de casting), par exemple :\n",
    "\n",
    "```python\n",
    ">>> set([1, 2, 4, 1])  # Conversion d'une liste en set\n",
    "{1, 2, 4}\n",
    ">>> set((2, 2, 2, 1))  # Conversion d'un tuple en set\n",
    "{1, 2}\n",
    ">>> set(range(5))\n",
    "{0, 1, 2, 3, 4}\n",
    ">>> set({\"clé1\": 1, \"clé2\": 2})\n",
    "{'clé1', 'clé2'}\n",
    ">>> set([\"ti\", \"to\", \"to\"])\n",
    "{'ti', 'to'}\n",
    ">>> set(\"Maître corbeau sur un arbre perché\")\n",
    "{'h', 'u', 'o', 'b', ' ', 'M', 'a', 'p', 'n', 'e', 'é', 'c', 'î', 's', 't', 'r'}\n",
    "```\n",
    "\n",
    "Nous avons dit plus haut que les sets ne sont pas ordonnés :\n",
    "\n",
    "```python\n",
    ">>> s1 = {1, 2, 3}\n",
    ">>> s2 = {2, 1, 3}\n",
    ">>> s1 == s2\n",
    "True\n",
    "```\n",
    "\n",
    "Par conséquent, il est impossible de récupérer un élément par sa position. Il est également impossible de modifier un de ses éléments.\n",
    "\n",
    "```python\n",
    ">>> s = set([1, 2, 4, 1])\n",
    ">>> s[1]\n",
    "Traceback (most recent call last):\n",
    "  File \"<stdin>\", line 1, in <module>\n",
    "TypeError: 'set' object is not subscriptable\n",
    "```\n",
    "\n",
    "Par contre, les sets sont itérables :\n",
    "\n",
    "```python\n",
    ">>> for elt in s:\n",
    "...     print(elt)\n",
    "...\n",
    "1\n",
    "2\n",
    "4\n",
    "```\n",
    "\n",
    "Si on ne peut pas modifier le contenu directement, on peut ajouter ou supprimer des éléments :\n",
    "\n",
    "```python\n",
    ">>> s = {1, 2, 3}\n",
    ">>> s.remove(1)\n",
    ">>> s\n",
    "{2, 3}\n",
    ">>> s.add(1)\n",
    ">>> s\n",
    "{1, 2, 3}\n",
    "```\n",
    "\n",
    "Les variables de type `set` sont très utiles pour rechercher les éléments uniques d'une suite d'éléments. Cela revient à éliminer tous les doublons. Par exemple :\n",
    "\n",
    "```python\n",
    ">>> lst = [1, 2, 2, 3, 3]\n",
    ">>> s = set(lst)\n",
    ">>> s\n",
    "{1, 2, 3}\n",
    ">>> lst2 = list(s)\n",
    ">>> lst2\n",
    "[1, 2, 3]\n",
    "```"
   ]
  },
  {
   "cell_type": "markdown",
   "metadata": {},
   "source": [
    "### Question 1\n",
    "Donner un dictionnaire en Python  qui represente la base des recettes."
   ]
  },
  {
   "cell_type": "code",
   "execution_count": 3,
   "metadata": {},
   "outputs": [
    {
     "name": "stdout",
     "output_type": "stream",
     "text": [
      "{'Gâteau au chocolat': {'chocolat', 'beurre', 'sucre', 'oeufs', 'farine'}, 'Gâteau au yaourt': {'farine', 'sucre', 'oeufs', 'yaourt'}, 'Crêpes': {'farine', 'oeufs', 'lait'}, 'Quatre-quarts': {'farine', 'sucre', 'oeufs', 'beurre'}, 'Kouign Amann': {'farine', 'sucre', 'beurre'}}\n"
     ]
    }
   ],
   "source": [
    "livre_recette = {\"Gâteau au chocolat\" : {\"chocolat\", \"oeufs\", \"farine\", \"sucre\", \"beurre\"}, \"Gâteau au yaourt\" : {\"yaourt\", \"oeufs\", \"farine\", \"sucre\"}, \"Crêpes\" : {\"oeufs\", \"farine\", \"lait\"}, \"Quatre-quarts\" : {\"oeufs\", \"farine\", \"sucre\", \"beurre\"}, \"Kouign Amann\" : {\"farine\", \"sucre\", \"beurre\"}}\n",
    "print(livre_recette)"
   ]
  },
  {
   "cell_type": "markdown",
   "metadata": {},
   "source": [
    "### Question 2\n",
    "Écrire la fonction `nb_ingredients` qui, étant donné un livre de recettes et\n",
    "le nom d'une recette contenue dans le livre, renvoie le nombre d'ingrédients nécessaires à la\n",
    "recette."
   ]
  },
  {
   "cell_type": "code",
   "execution_count": 4,
   "metadata": {},
   "outputs": [
    {
     "name": "stdout",
     "output_type": "stream",
     "text": [
      "quelle recette recherchez-vous ?Crêpes\n",
      "3\n"
     ]
    }
   ],
   "source": [
    "def nb_ingredients(livre, nom_recette):\n",
    "        print(len(livre[nom_recette]))\n",
    "        \n",
    "    \n",
    "recette_voulu = input(\"quelle recette recherchez-vous ?\") \n",
    "nb_ingredients(livre_recette, recette_voulu)"
   ]
  },
  {
   "cell_type": "markdown",
   "metadata": {},
   "source": [
    "### Question 3\n",
    "Écrire la fonction `recette_avec` qui, étant donnés un livre de recettes et le\n",
    "nom d'un ingrédient, renvoie l'ensemble des recettes qui utilisent cet ingrédient."
   ]
  },
  {
   "cell_type": "code",
   "execution_count": 9,
   "metadata": {},
   "outputs": [
    {
     "name": "stdout",
     "output_type": "stream",
     "text": [
      "Quel ingrédient vous intéresse ? oeufs\n",
      "Gâteau au chocolat\n",
      "Gâteau au yaourt\n",
      "Crêpes\n",
      "Quatre-quarts\n"
     ]
    }
   ],
   "source": [
    "def recette_avec(livre, ingredient):\n",
    "        for key, values in livre.items():\n",
    "            if ingredient in values:\n",
    "                print(key)\n",
    "      \n",
    "ingredient_voulu = input(\"Quel ingrédient vous intéresse ? \")\n",
    "recette_avec(livre_recette, ingredient_voulu)"
   ]
  },
  {
   "cell_type": "markdown",
   "metadata": {},
   "source": [
    "### Question 4\n",
    "Écrire la fonction `tous_ingredients` qui, étant donné un livre de recettes renvoie l'ensemble des ingrédients (sans doublons)."
   ]
  },
  {
   "cell_type": "code",
   "execution_count": 10,
   "metadata": {},
   "outputs": [
    {
     "name": "stdout",
     "output_type": "stream",
     "text": [
      "{'chocolat', 'beurre', 'sucre', 'oeufs', 'lait', 'farine', 'yaourt'}\n"
     ]
    }
   ],
   "source": [
    "def tous_ingredients(livre):\n",
    "    liste_temporaire = set()\n",
    "    for values in livre.values():\n",
    "        for val in values:\n",
    "            liste_temporaire.add(val)\n",
    "    print(liste_temporaire)\n",
    "    \n",
    "    \n",
    "tous_ingredients(livre_recette)"
   ]
  },
  {
   "cell_type": "markdown",
   "metadata": {},
   "source": [
    "### Question 5\n",
    "Tout livre de recettes contient une table des ingrédients (index) permettant d'associer à chaque ingrédient l'ensemble des recettes qui l'utilisent. On peut représenter en Python une telle table par un dictionnaire dans lequel une clé est un ingrédient et la valeur associée est l'ensemble des recettes qui l’utilisent.\n",
    "Écrire la fonction `table_ingredients` qui, étant donné un livre de recettes, renvoie la table des ingrédients associée.\n",
    "\n",
    "Exemple :\n",
    "```python\n",
    "{\n",
    "    'chocolat': {'gâteau chocolat'},\n",
    "    'oeufs': {'crêpes', 'gâteau chocolat', 'gâteau yaourt', 'quatre-quarts'},\n",
    "    ...\n",
    "}\n",
    "```"
   ]
  },
  {
   "cell_type": "code",
   "execution_count": 46,
   "metadata": {
    "tags": [
     "remove-cell"
    ]
   },
   "outputs": [
    {
     "name": "stdout",
     "output_type": "stream",
     "text": [
      "{'chocolat', 'beurre', 'sucre', 'oeufs', 'lait', 'farine', 'yaourt'}\n"
     ]
    },
    {
     "ename": "AttributeError",
     "evalue": "'set' object has no attribute 'values'",
     "output_type": "error",
     "traceback": [
      "\u001b[1;31m---------------------------------------------------------------------------\u001b[0m",
      "\u001b[1;31mAttributeError\u001b[0m                            Traceback (most recent call last)",
      "\u001b[1;32m<ipython-input-46-1e43f5aa6fa5>\u001b[0m in \u001b[0;36m<module>\u001b[1;34m\u001b[0m\n\u001b[0;32m     15\u001b[0m \u001b[1;33m\u001b[0m\u001b[0m\n\u001b[0;32m     16\u001b[0m \u001b[1;33m\u001b[0m\u001b[0m\n\u001b[1;32m---> 17\u001b[1;33m \u001b[0mtable_ingredients\u001b[0m\u001b[1;33m(\u001b[0m\u001b[0mlivre_recette\u001b[0m\u001b[1;33m)\u001b[0m\u001b[1;33m\u001b[0m\u001b[1;33m\u001b[0m\u001b[0m\n\u001b[0m",
      "\u001b[1;32m<ipython-input-46-1e43f5aa6fa5>\u001b[0m in \u001b[0;36mtable_ingredients\u001b[1;34m(livre)\u001b[0m\n\u001b[0;32m     10\u001b[0m \u001b[1;33m\u001b[0m\u001b[0m\n\u001b[0;32m     11\u001b[0m     \u001b[1;32mfor\u001b[0m \u001b[0melements\u001b[0m \u001b[1;32min\u001b[0m \u001b[0mliste_temporaire\u001b[0m\u001b[1;33m:\u001b[0m\u001b[1;33m\u001b[0m\u001b[1;33m\u001b[0m\u001b[0m\n\u001b[1;32m---> 12\u001b[1;33m         \u001b[0mdictionnaire_table\u001b[0m\u001b[1;33m[\u001b[0m\u001b[0melements\u001b[0m\u001b[1;33m]\u001b[0m \u001b[1;33m=\u001b[0m \u001b[0mliste_temporaire\u001b[0m\u001b[1;33m.\u001b[0m\u001b[0mvalues\u001b[0m\u001b[1;33m(\u001b[0m\u001b[1;33m)\u001b[0m\u001b[1;33m\u001b[0m\u001b[1;33m\u001b[0m\u001b[0m\n\u001b[0m\u001b[0;32m     13\u001b[0m         \u001b[0mprint\u001b[0m\u001b[1;33m(\u001b[0m\u001b[0mdictionnaire_table\u001b[0m\u001b[1;33m)\u001b[0m\u001b[1;33m\u001b[0m\u001b[1;33m\u001b[0m\u001b[0m\n\u001b[0;32m     14\u001b[0m \u001b[1;33m\u001b[0m\u001b[0m\n",
      "\u001b[1;31mAttributeError\u001b[0m: 'set' object has no attribute 'values'"
     ]
    }
   ],
   "source": [
    "livre_recette = {\"Gâteau au chocolat\" : {\"chocolat\", \"oeufs\", \"farine\", \"sucre\", \"beurre\"}, \"Gâteau au yaourt\" : {\"yaourt\", \"oeufs\", \"farine\", \"sucre\"}, \"Crêpes\" : {\"oeufs\", \"farine\", \"lait\"}, \"Quatre-quarts\" : {\"oeufs\", \"farine\", \"sucre\", \"beurre\"}, \"Kouign Amann\" : {\"farine\", \"sucre\", \"beurre\"}}\n",
    "\n",
    "def table_ingredients(livre):\n",
    "    liste_temporaire = set()\n",
    "    dictionnaire_table = {}\n",
    "    for key, values in livre.items():\n",
    "        for val in values:\n",
    "            liste_temporaire.add(val)\n",
    "    print(liste_temporaire)\n",
    "    \n",
    "    for elements in liste_temporaire:\n",
    "        dictionnaire_table[elements] = liste_temporaire.values()\n",
    "        print(dictionnaire_table)\n",
    "\n",
    "    \n",
    "      \n",
    "table_ingredients(livre_recette)    "
   ]
  },
  {
   "cell_type": "markdown",
   "metadata": {},
   "source": [
    "### Question 6\n",
    "Écrire la fonction `ingredient_principal` qui, étant donné un livre de recettes, renvoie le nom de l'ingrédient utilisé par le plus grand nombre de recettes."
   ]
  },
  {
   "cell_type": "code",
   "execution_count": null,
   "metadata": {
    "tags": [
     "remove-cell"
    ]
   },
   "outputs": [],
   "source": []
  },
  {
   "cell_type": "markdown",
   "metadata": {},
   "source": [
    "### Question 7\n",
    "Certaines personnes sont allergiques à certains ingrédients. On aimerait donc pouvoir ne\n",
    "conserver d'un livre de recettes que celles qui n'utilisent pas un ingrédient donné.\n",
    "\n",
    "Écrire la fonction `recettes_sans` qui, étant donné un livre de recettes et un ingrédient, renvoie un nouveau livre de recettes ne contenant que des recettes n'utilisant pas l’ingrédient."
   ]
  },
  {
   "cell_type": "code",
   "execution_count": null,
   "metadata": {
    "tags": [
     "remove-cell"
    ]
   },
   "outputs": [],
   "source": []
  },
  {
   "cell_type": "markdown",
   "metadata": {},
   "source": [
    "## TP : Gestion de bibliothèque\n",
    "\n",
    "Dans cet exercice, nous illustrons la manipulation des dictionnaires en travaillant sur une \"base de données\" de livres empruntables dans une bibliothèque.\n",
    "\n",
    "La base permet de rechercher rapidement un livre à partir de son titre (clé du dictionnaire). On\n",
    "obtient alors l'auteur du livre ainsi que le nombre d’exemplaire(s) empruntable(s) en stock.\n",
    "\n",
    "Par exemple :"
   ]
  },
  {
   "cell_type": "code",
   "execution_count": null,
   "metadata": {},
   "outputs": [],
   "source": [
    "# Base de données\n",
    "base_livres = {\n",
    "    'Les misérables': ('Victor Hugo', 5),\n",
    "    'Le dernier des Mohicans': ('James F. Cooper', 0),\n",
    "    'Un animal doué de raison': ('Robert Merle', 6),\n",
    "    'Le grand Meaulnes': ('Alain Fournier', 1),\n",
    "    'Notre-Dame de Paris': ('Victor Hugo', 4),\n",
    "    'Les comtemplations': ('Victor Hugo', 0) \n",
    "}\n",
    "\n",
    "base_livres['Notre-Dame de Paris']"
   ]
  },
  {
   "cell_type": "markdown",
   "metadata": {},
   "source": [
    "L'auteur du livre *Notre-Dame de Paris* est *Victor Hugo* et il est disponible en *4* exemplaires.\n",
    "\n",
    "**Question** : quel est le *type* de variable des valeurs des clés du dictionnaire ?"
   ]
  },
  {
   "cell_type": "markdown",
   "metadata": {},
   "source": [
    "### Question 1\n",
    "\n",
    "Écrire la fonction `auteurs` qui, étant donnée une base de livres, retourne l'ensemble des auteurs de cette base."
   ]
  },
  {
   "cell_type": "code",
   "execution_count": null,
   "metadata": {
    "tags": [
     "remove-cell"
    ]
   },
   "outputs": [],
   "source": []
  },
  {
   "cell_type": "code",
   "execution_count": null,
   "metadata": {
    "tags": [
     "remove-cell"
    ]
   },
   "outputs": [],
   "source": []
  },
  {
   "cell_type": "markdown",
   "metadata": {},
   "source": [
    "### Question 2\n",
    "\n",
    "\n",
    "Écrire la fonction `nb_exemplaires_total` qui, étant donnée une base de livres, retourne le nombre total d'exemplaires disponibles."
   ]
  },
  {
   "cell_type": "code",
   "execution_count": null,
   "metadata": {
    "tags": [
     "remove-cell"
    ]
   },
   "outputs": [],
   "source": []
  },
  {
   "cell_type": "code",
   "execution_count": null,
   "metadata": {
    "tags": [
     "remove-cell"
    ]
   },
   "outputs": [],
   "source": []
  },
  {
   "cell_type": "markdown",
   "metadata": {},
   "source": [
    "### Question 3\n",
    "\n",
    "Écrire la fonction `est_disponible` qui, étant donnée une base de livres, un titre et un auteur, indique si le livre est disponible (la fonction renverra `True` ou `False`. Si le livre et l'auteur correspondant n'existent pas, la fonction renverra `None`."
   ]
  },
  {
   "cell_type": "code",
   "execution_count": null,
   "metadata": {
    "tags": [
     "remove-cell"
    ]
   },
   "outputs": [],
   "source": []
  },
  {
   "cell_type": "markdown",
   "metadata": {},
   "source": [
    "### Question 4\n",
    "\n",
    "Écrire la fonction `titres_empruntables` qui, étant donné unee base de livres, retourne l'ensemble des livres empruntables."
   ]
  },
  {
   "cell_type": "code",
   "execution_count": null,
   "metadata": {
    "tags": [
     "remove-cell"
    ]
   },
   "outputs": [],
   "source": []
  },
  {
   "cell_type": "markdown",
   "metadata": {},
   "source": [
    "### Question 5\n",
    "\n",
    "Écrire la fonction `titres_auteur` qui, étant donnés un nom d'auteur et une base de livres, retourne l'ensemble des titres de livres écrits par cet auteur."
   ]
  },
  {
   "cell_type": "code",
   "execution_count": null,
   "metadata": {
    "tags": [
     "remove-cell"
    ]
   },
   "outputs": [],
   "source": []
  }
 ],
 "metadata": {
  "celltoolbar": "Tags",
  "kernelspec": {
   "display_name": "Python 3",
   "language": "python",
   "name": "python3"
  },
  "language_info": {
   "codemirror_mode": {
    "name": "ipython",
    "version": 3
   },
   "file_extension": ".py",
   "mimetype": "text/x-python",
   "name": "python",
   "nbconvert_exporter": "python",
   "pygments_lexer": "ipython3",
   "version": "3.8.3"
  }
 },
 "nbformat": 4,
 "nbformat_minor": 4
}
