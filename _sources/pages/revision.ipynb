{
 "cells": [
  {
   "cell_type": "markdown",
   "metadata": {},
   "source": [
    "## Exercice : la moyenne\n",
    "\n",
    "Soit la liste `lst_temperatures = [12, 13, 14, 28]`, écrire un programme qui permet de calculer la moyenne de ces valeurs :\n",
    "\n",
    "- Avec une boucle `for`\n",
    "- Avec une boucle `while`"
   ]
  },
  {
   "cell_type": "code",
   "execution_count": 1,
   "metadata": {
    "slideshow": {
     "slide_type": "subslide"
    }
   },
   "outputs": [
    {
     "name": "stdout",
     "output_type": "stream",
     "text": [
      "16.75\n",
      "16.75\n"
     ]
    }
   ],
   "source": [
    "lst_temperatures = [12, 13, 14, 28]\n",
    "\n",
    "somme_for = 0\n",
    "i=0\n",
    "\n",
    "for i in range(4):\n",
    "    somme_for += lst_temperatures[i]\n",
    "print(somme_for/4)\n",
    "\n",
    "somme_while=0\n",
    "i=0\n",
    "\n",
    "while i < len(lst_temperatures):\n",
    "    somme_while+= lst_temperatures[i]\n",
    "    i+=1\n",
    "print(somme_while/4)"
   ]
  },
  {
   "cell_type": "markdown",
   "metadata": {},
   "source": [
    "## Exercice : les jours de la semaine\n",
    "\n",
    "Constituer une liste contenant le nom des sept jours de la semaine. À partir de cette liste comment peut-on récupérer :\n",
    "\n",
    "- Les 5 premiers jours de la semaine\n",
    "- Ceux du week-end\n",
    "- Uniquement le dernier élément\n",
    "- Tous les éléments sauf le dernier \n",
    "\n",
    "Indications :\n",
    "\n",
    "- Tester vos propositions\n",
    "- Quel est le type des éléments renvoyés ?"
   ]
  },
  {
   "cell_type": "code",
   "execution_count": 35,
   "metadata": {},
   "outputs": [
    {
     "name": "stdout",
     "output_type": "stream",
     "text": [
      "['Lundi', 'Mardi', 'Mercredi', 'Jeudi', 'Vendredi']\n",
      "<class 'list'>\n",
      "['Samedi', 'Dimanche']\n",
      "Dimanche\n",
      "<class 'str'>\n",
      "Lundi\n",
      "Mardi\n",
      "Mercredi\n",
      "Jeudi\n",
      "Vendredi\n",
      "Samedi\n"
     ]
    }
   ],
   "source": [
    "semaine = [\"Lundi\", \"Mardi\", \"Mercredi\", \"Jeudi\", \"Vendredi\", \"Samedi\", \"Dimanche\"]\n",
    "print(semaine[0:5])\n",
    "print(type(semaine[0:5]))\n",
    "print(semaine[-2:])\n",
    "print(semaine[-1])\n",
    "print(type(semaine[-1]))\n",
    "i = 0\n",
    "\n",
    "while i < len(semaine)-1:\n",
    "    print(semaine[i])\n",
    "    i += 1"
   ]
  },
  {
   "cell_type": "markdown",
   "metadata": {},
   "source": [
    "## Exercice : inversion de l'ordre d'une liste\n",
    "Soit une liste quelconque d'éléments, écrire un programme qui en inverse l'ordre. On utilisera une seule liste pour effectuer l'opération."
   ]
  },
  {
   "cell_type": "code",
   "execution_count": 20,
   "metadata": {},
   "outputs": [
    {
     "name": "stdout",
     "output_type": "stream",
     "text": [
      "['Dimanche', 'Samedi', 'Vendredi', 'Jeudi', 'Mercredi', 'Mardi', 'Lundi']\n"
     ]
    }
   ],
   "source": [
    "semaine = [\"Lundi\", \"Mardi\", \"Mercredi\", \"Jeudi\", \"Vendredi\", \"Samedi\", \"Dimanche\"]\n",
    "semaine.reverse()\n",
    "print(semaine)"
   ]
  },
  {
   "cell_type": "markdown",
   "metadata": {},
   "source": [
    "## Exercice : nombres pairs et impairs dans des listes\n",
    "On souhaite stocker dans deux listes différentes les nombres saisis par l'utilisateur selon s'il s'agit d'un nombre pair ou d'un nombre impair. Le programme se terminera lorsque l'utilisateur aura entré la valeur `-1`."
   ]
  },
  {
   "cell_type": "code",
   "execution_count": 32,
   "metadata": {},
   "outputs": [
    {
     "name": "stdout",
     "output_type": "stream",
     "text": [
      "1\n",
      "2\n",
      "3\n",
      "4\n",
      "5\n",
      "-1\n",
      "[2, 4]\n",
      "[1, 3, 5, -1]\n"
     ]
    }
   ],
   "source": [
    "pair = []\n",
    "impaire = []\n",
    "demande = 0\n",
    "\n",
    "while int(demande) != -1:\n",
    "    demande = input()\n",
    "    if int(demande)%2 == 0:\n",
    "        pair.append(int(demande))\n",
    "    else:\n",
    "        impaire.append(int(demande))\n",
    "print(pair)\n",
    "print(impaire)\n",
    "    "
   ]
  },
  {
   "cell_type": "markdown",
   "metadata": {},
   "source": [
    "Le programme ci-dessus fonctionne, mais il ne gère pas les erreurs de saisie. En effet si l'utilisateur ne saisit pas un nombre, le programme s'interrompt brutalement (erreur Python).\n",
    "En Python, on peut contrôler si une valeur est numérique avec la **méthode** `isnumeric()` qui s'applique (uniquement) sur une chaîne de caractères et qui renvoie `True` ou `False`.\n",
    "\n",
    "Exemples :\n",
    "\n",
    "```python\n",
    "valeur = \"1\"\n",
    "valeur.isnumeric()  # True\n",
    "valeur = \"a\"\n",
    "valeur.isnumeric()  # False\n",
    "valeur = \"-1\"\n",
    "valeur.isnumeric()  # False\n",
    "valeur = 1\n",
    "valeur.isnumeric()  # Erreur !\n",
    "```\n",
    "\n",
    "En utilisant `isnumeric()`, modifier le programme ci-dessus afin d'afficher un message d'erreur à l'utilisateur s'il saisit une valeur non numérique."
   ]
  },
  {
   "cell_type": "code",
   "execution_count": 23,
   "metadata": {},
   "outputs": [
    {
     "name": "stdout",
     "output_type": "stream",
     "text": [
      "2\n",
      "3\n",
      "pouet\n",
      "Il faut une valeur numérique\n",
      "-1\n",
      "[2]\n",
      "[3]\n"
     ]
    }
   ],
   "source": [
    "pair = []\n",
    "impaire = []\n",
    "demande = 0\n",
    "verification = True\n",
    "\n",
    "while verification:\n",
    "    demande = input()\n",
    "    if demande.isnumeric():\n",
    "        if int(demande) %2 == 0:\n",
    "            pair.append(int(demande))\n",
    "        else:\n",
    "            impaire.append(int(demande))\n",
    "    elif demande == \"-1\":\n",
    "        verification = False\n",
    "    else:\n",
    "        print(\"Il faut une valeur numérique\")\n",
    "print(pair)\n",
    "print(impaire)"
   ]
  },
  {
   "cell_type": "markdown",
   "metadata": {},
   "source": [
    "## Exercice : des étoiles\n",
    "Ecrire un programme qui permet d'afficher un \"graphique\" de ce type :\n",
    "```\n",
    "*\n",
    "**\n",
    "***\n",
    "****\n",
    "*****\n",
    "```\n",
    "\n",
    "- Le nombre d'étoiles sera défini au préalable dans une variable.\n",
    "- Faire une version avec une boucle `for` et une version avec avec une boucle `while`."
   ]
  },
  {
   "cell_type": "code",
   "execution_count": 28,
   "metadata": {},
   "outputs": [
    {
     "name": "stdout",
     "output_type": "stream",
     "text": [
      "*\n",
      "**\n",
      "***\n",
      "****\n",
      "*****\n"
     ]
    }
   ],
   "source": [
    "etoile = 5\n",
    "for i in range (1 , etoile+1):\n",
    "    print(\"*\" * i)"
   ]
  },
  {
   "cell_type": "code",
   "execution_count": 29,
   "metadata": {},
   "outputs": [
    {
     "name": "stdout",
     "output_type": "stream",
     "text": [
      "*\n",
      "**\n",
      "***\n",
      "****\n",
      "*****\n"
     ]
    }
   ],
   "source": [
    "i = 1\n",
    "etoile = 5\n",
    "while i <= 5:\n",
    "    print(\"*\" * i)\n",
    "    i+=1"
   ]
  },
  {
   "cell_type": "markdown",
   "metadata": {},
   "source": [
    "## Exercice : copie de listes\n",
    "\n",
    "Etant données deux listes, on souhaite copier la première dans la deuxième et ainsi pouvoir modifier une valeur dans la deuxième liste sans que cela ne modifie la première.\n",
    "\n",
    "- `lst1 = [1, 2, 3]`.\n",
    "- On copie `lst1` dans `lst2`.\n",
    "- On modifie le premier élément de `lst2` en mettant la valeur `4`.\n",
    "- On doit obtenir :\n",
    "  - `lst1` : `[1, 2, 3]` (inchangée)\n",
    "  - `lst2` : `[4, 2, 3]`\n",
    "\n",
    "Le programme suivant a été écrit :\n",
    "\n",
    "```python\n",
    "lst1 = [1, 2, 3]\n",
    "lst2 = lst1\n",
    "lst2[0] = 4\n",
    "print(lst2)\n",
    "print(lst1)\n",
    "```\n",
    "\n",
    "- Que remarquez-vous ?\n",
    "- Modifiez le pour qu'il réponde au problème posé."
   ]
  },
  {
   "cell_type": "code",
   "execution_count": 36,
   "metadata": {},
   "outputs": [
    {
     "name": "stdout",
     "output_type": "stream",
     "text": [
      "[4, 2, 3]\n",
      "[1, 2, 3]\n"
     ]
    }
   ],
   "source": [
    "lst1 = [1, 2, 3]\n",
    "lst2 = lst1[:]\n",
    "lst2[0] = 4\n",
    "print(lst2)\n",
    "print(lst1)"
   ]
  },
  {
   "cell_type": "markdown",
   "metadata": {},
   "source": [
    "## Exercice : le jeu du + ou du -\n",
    "\n",
    "L'ordinateur choisit un nombre au hasard entre 1 et 100 et l'utilisateur doit deviner ce nombre mystère en respectant la règle suivante :\n",
    "\n",
    "- Version 1\n",
    "  - L'utilisateur propose un nombre.\n",
    "  - Le programme lui dit s'il est trop petit ou trop grand.\n",
    "  - Et ainsi de suite tant que l'utilisateur n'a pas trouvé le nombre mystère.\n",
    "- Version 2\n",
    "  - Ajouter une gestion d'erreur si l'utilisateur ne rentre pas un nombre entre 1 et 100 ou s'il rentre autre chose qu'un nombre.\n",
    "- Version 3\n",
    "  - Indiquer à l'utilisateur en combien de coups il a trouvé le nombre mystère."
   ]
  },
  {
   "cell_type": "code",
   "execution_count": null,
   "metadata": {},
   "outputs": [],
   "source": [
    "   "
   ]
  },
  {
   "cell_type": "markdown",
   "metadata": {},
   "source": [
    "## Exercice : des étoiles (avec fonction)\n",
    "Reprendre [l'exercice sur les étoiles](#exercice-des-etoiles), mais en l'intégrant dans une fonction `affiche_etoiles` qui prend en paramètres le nombre d'étoiles."
   ]
  },
  {
   "cell_type": "code",
   "execution_count": null,
   "metadata": {},
   "outputs": [],
   "source": [
    "\n"
   ]
  },
  {
   "cell_type": "markdown",
   "metadata": {},
   "source": [
    "## Exercice : `print` ou `return` ?\n",
    "\n",
    "### Version 1\n",
    "Dans un programme principal, on a écrit la commande suivante : `print(function1(5))`. Écrire la fonction\n",
    "`function1` de telle sorte que l'exécution de la commande précédente affiche comme résultat **6** dans l'interpréteur\n",
    "Python.\n",
    "\n",
    "### Version 2\n",
    "Dans un programme principal, on a écrit la commande suivante : `function2(5)`. Écrire la fonction `function2`\n",
    "de telle sorte que l’exécution de la commande précédente affiche comme résultat **6** dans l’interpréteur Python."
   ]
  },
  {
   "cell_type": "code",
   "execution_count": null,
   "metadata": {},
   "outputs": [],
   "source": []
  },
  {
   "cell_type": "markdown",
   "metadata": {},
   "source": [
    "## Exercice : fonction du maximum\n",
    "Ecrire une fonction `mon_maximum` qui prend en entrée une liste de valeurs et qui renvoie le maximum ainsi que son indice dans la liste."
   ]
  },
  {
   "cell_type": "code",
   "execution_count": null,
   "metadata": {},
   "outputs": [],
   "source": []
  },
  {
   "cell_type": "markdown",
   "metadata": {},
   "source": [
    "## Exercice : que fait ce programme (1) ?\n",
    "\n",
    "**Sans écrire** ce programme indiquez ce que produit le programme suivant à l'écran :\n",
    "\n",
    "```python\n",
    "def compute1(a, b):\n",
    "    add1 = a + b\n",
    "    return add1\n",
    "\n",
    "def compute2(a, b):\n",
    "    add2 = a + b\n",
    "\n",
    "res1 = compute1(4, 5)\n",
    "print(res1)\n",
    "\n",
    "res2 = compute2(5, 6)\n",
    "print(res2)\n",
    "\n",
    "print(add2)\n",
    "```"
   ]
  },
  {
   "cell_type": "markdown",
   "metadata": {},
   "source": [
    "## Exercice : la balance\n",
    "Ecrire un programme qui en fonction du poids d'un coli, nous donne le prix de l'envoi.\n",
    "\n",
    "- Ecrire une fonction `lit_poids` qui renvoie le poids du coli (dans notre cas on simulera la pesée en demandant le poids à l'utilisateur).\n",
    "- Ecrire une fonction `donne_prix` qui renvoie le prix du coli en fonction de son poids :\n",
    "  - poids inférieur à 100 g : 2 €\n",
    "  - poids compris entre 100 et 500 g : 5 €\n",
    "  - poids compris entre 500 et 1000 g : 10 €\n",
    "  - poids compris entre 1000 et 30000 g : 30 €\n",
    "\n",
    "- Au-delà de 30 kg, on indiquera une erreur à l'utilisateur. Ce n'est pas la fonction `donne_prix` qui effectuera l'affichage de l'erreur, mais le programme principal."
   ]
  },
  {
   "cell_type": "code",
   "execution_count": null,
   "metadata": {},
   "outputs": [],
   "source": []
  },
  {
   "cell_type": "markdown",
   "metadata": {},
   "source": [
    "## Exercice : le palindrome\n",
    "Le palindrome est une figure de style désignant un texte ou un mot dont l'ordre des lettres reste le même qu'on le lise de gauche à droite ou de droite à gauche (plus d'informations sur [Wikipédia](https://fr.wikipedia.org/wiki/Palindrome)). Exemples de mots : \"ici\", \"kayak\", \"Laval\", ...\n",
    "\n",
    "Ecrire une fonction `est_palindrome` qui prend en paramètre une chaîne de caractères et qui renvoie `True` ou `False`.\n",
    "\n",
    "- Faire un jeu de tests dans le programme principal avec une liste de mots.\n",
    "- Penser à ignorer les majuscules / minuscules."
   ]
  },
  {
   "cell_type": "code",
   "execution_count": null,
   "metadata": {},
   "outputs": [],
   "source": []
  },
  {
   "cell_type": "markdown",
   "metadata": {},
   "source": [
    "## Exercice : tri de mots\n",
    "\n",
    "Soit la chaîne de cararactères contenant les mots suivants : \"python physique maths anglais\".\n",
    "Ecrire une fonction `tri_mots` qui prend en paramètre une chaîne contenant des mots dans un ordre quelconque et qui retourne une chaîne avec des mots triés par ordre alphabétique."
   ]
  },
  {
   "cell_type": "code",
   "execution_count": null,
   "metadata": {},
   "outputs": [],
   "source": []
  },
  {
   "cell_type": "markdown",
   "metadata": {},
   "source": [
    "## Introduction aux tests unitaires : l'instruction `assert`\n",
    "Un des principaux problèmes de la programmation informatique est la détection de dysfonctionnements (bugs). Pour pallier à cela, on peut écrire des tests qui \"garantissent\" que le programme fonctionne conformément à nos attentes et qu'il fonctionne toujours même après si des modifications ont été apportées (par exemple des améliorations).\n",
    "\n",
    "Pour effectuer ces vérifications, on peut insérer des `print`. Cependant cela requiert que le programmeur vérifie à l'écran ce qui se passe, ce qui n'est ni commode ni très fiable.\n",
    "\n",
    "Une alternative (rudimentaire) est d'utiliser l'instruction `assert <condition_booléenne>`. Si la condition boolénne est fausse, le programme s'interrompera en provoquant une erreur.\n",
    "\n",
    "Exemple :\n",
    "```python\n",
    "a, b, c = True, False, True\n",
    "assert a  # Ok\n",
    "assert b  # Erreur et interruption du programme\n",
    "assert c  # Jamais exécutée car le programme a été interrompu\n",
    "```\n",
    "\n",
    "Autre exemple :\n",
    "```python\n",
    "mot = \"bonjour\"\n",
    "assert len(mot) == 7  # Ok\n",
    "```"
   ]
  },
  {
   "cell_type": "markdown",
   "metadata": {},
   "source": [
    "## Exercice : assert avec le palindrome\n",
    "\n",
    "Reprendre [l'exercice sur le palindrome](#exercice-le-palindrome) et dans le programme principal, utiliser l'instruction `assert` pour valider le bon résultat de la fonction `est_palindrome`.\n",
    "\n",
    "- Faire une version avec des listes\n",
    "- Faire une version avec des dictionnaires"
   ]
  },
  {
   "cell_type": "code",
   "execution_count": null,
   "metadata": {},
   "outputs": [],
   "source": []
  }
 ],
 "metadata": {
  "celltoolbar": "Tags",
  "kernelspec": {
   "display_name": "Python 3",
   "language": "python",
   "name": "python3"
  },
  "language_info": {
   "codemirror_mode": {
    "name": "ipython",
    "version": 3
   },
   "file_extension": ".py",
   "mimetype": "text/x-python",
   "name": "python",
   "nbconvert_exporter": "python",
   "pygments_lexer": "ipython3",
   "version": "3.8.3"
  }
 },
 "nbformat": 4,
 "nbformat_minor": 2
}
