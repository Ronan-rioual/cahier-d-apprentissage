{
 "cells": [
  {
   "cell_type": "markdown",
   "metadata": {},
   "source": [
    "<h1><center> Rappel des Notions Statistiques</center></h1>"
   ]
  },
  {
   "cell_type": "markdown",
   "metadata": {},
   "source": [
    "## Distribution\n",
    "\n",
    "- Definition"
   ]
  },
  {
   "cell_type": "raw",
   "metadata": {},
   "source": [
    "En statistique, la distribution statistique, distribution empirique ou distribution des fréquences, est un tableau qui associe des classes de valeurs obtenues lors d'une expérience à leurs fréquences d'apparition. Ce tableau de valeurs est modélisé en théorie des probabilités par une loi de probabilité. "
   ]
  },
  {
   "cell_type": "markdown",
   "metadata": {},
   "source": [
    "## Moyenne\n",
    "\n",
    "- Definition\n",
    "- Exemple pratique"
   ]
  },
  {
   "cell_type": "raw",
   "metadata": {},
   "source": [
    "La moyenne est la valeur unique que devraient avoir tous les individus d'une population (ou d'un échantillon) pour que leur total soit inchangé. C'est un critère de position. Dans la plupart des cas, le total formé par les individus d'une population est la somme de leurs valeurs, divisée par le nombre de termes\n",
    "\n",
    "exemple: (3X7 + 1X19)/3+1 = 40/4 = 10"
   ]
  },
  {
   "cell_type": "markdown",
   "metadata": {},
   "source": [
    "## Médiane\n",
    "\n",
    "- Definition\n",
    "- Exemple pratique"
   ]
  },
  {
   "cell_type": "raw",
   "metadata": {},
   "source": [
    "la médiane d'un ensemble de valeurs (échantillon, population, distribution de probabilités) est une valeur x qui permet de couper l'ensemble des valeurs en deux parties égales : mettant d'un côté une moitié des valeurs, qui sont toutes inférieures ou égales à x et de l'autre côté l'autre moitié des valeurs, qui sont toutes supérieures ou égales à x (s'il y a un nombre impair de valeurs, la valeur centrale sera mise des deux côtés)\n",
    "\n",
    "exemple: 1,1,3,4, 7 ,9,12,12,15\n",
    "                  ^\n",
    "                  |\n",
    "Il y a 9 valeurs, La valeur mediane est 7"
   ]
  },
  {
   "cell_type": "markdown",
   "metadata": {},
   "source": [
    "## Variance\n",
    "\n",
    "- Definition\n",
    "- Exemple pratique"
   ]
  },
  {
   "cell_type": "raw",
   "metadata": {},
   "source": [
    "la variance est une mesure de la dispersion des valeurs d'un échantillon ou d'une distribution de probabilité. Elle exprime la moyenne des carrés des écarts à la moyenne\n",
    "\n",
    "La variance est moyenne de l'écart au carré de valeurs par rapport à la moyenne\n",
    "Pour les nombres 1, 2 et 3, par exemple, la moyenne est 2 et la variance, 0,667"
   ]
  },
  {
   "cell_type": "markdown",
   "metadata": {},
   "source": [
    "## Écart type\n",
    "\n",
    "- Definition\n",
    "- Exemple pratique"
   ]
  },
  {
   "cell_type": "raw",
   "metadata": {},
   "source": [
    "L'écart-type sert à mesurer la dispersion, ou l'étalement, d'un ensemble de valeurs autour de leur moyenne. Plus l'écart-type est faible, plus la population est homogène.\n",
    "\n",
    "L\"écart type est la Racine carrée de la variance\n",
    "\n",
    "On la calcule en prenant la moyenne de l'écart au carré de chaque nombre par rapport à la moyenne d'un ensemble de données. Pour les nombres 1, 2 et 3, par exemple, la moyenne est 2 et la variance, 0,667"
   ]
  },
  {
   "cell_type": "markdown",
   "metadata": {},
   "source": [
    "## Fonction gaussienne\n",
    "\n",
    "- Definition\n",
    "- Exemple pratique"
   ]
  },
  {
   "cell_type": "markdown",
   "metadata": {},
   "source": [
    "Une fonction gaussienne est une fonction en exponentielle de l'opposé du carré de l'abscisse (une fonction en exp(-x2)). Elle a une forme caractéristique de courbe en cloche.\n",
    "![fonction gaussienne](..\\images\\fonction_gaussienne.png)"
   ]
  },
  {
   "cell_type": "markdown",
   "metadata": {},
   "source": [
    "## Outliers\n",
    "\n",
    "- Definition"
   ]
  },
  {
   "cell_type": "raw",
   "metadata": {},
   "source": [
    "En statistique, une donnée aberrante (ou horsain, en anglais outlier) est une valeur ou une observation qui est « distante » des autres observations effectuées sur le même phénomène, c'est-à-dire qu'elle contraste grandement avec les valeurs « normalement » mesurées"
   ]
  },
  {
   "cell_type": "markdown",
   "metadata": {},
   "source": [
    "## Centile\n",
    "\n",
    "- Definition\n",
    "- Exemple pratique"
   ]
  },
  {
   "cell_type": "raw",
   "metadata": {},
   "source": [
    "En statistique descriptive, un centile est chacune des 99 valeurs qui divisent les données triées en 100 parts égales, de sorte que chaque partie représente 1/100 de l'échantillon de population. Le centile fait partie des quantiles.\n",
    "\n",
    "exemple\n",
    "    le 1er centile sépare le 1 % inférieur des données\n",
    "    le 98e centile sépare les 98 % inférieurs des données"
   ]
  },
  {
   "cell_type": "markdown",
   "metadata": {},
   "source": [
    "## Écart interquartile\n",
    "\n",
    "- Definition\n",
    "- Exemple pratique"
   ]
  },
  {
   "cell_type": "raw",
   "metadata": {},
   "source": [
    "En statistiques, l’écart interquartile1 (aussi appelé étendue interquartile2 ou EI ; en anglais, interquartile range ou IQR) est une mesure de dispersion qui s'obtient en faisant la différence entre le troisième et le premier quartile : \n",
    "    EI = Q3 - Q1.\n",
    "\n",
    "On dit que L'EI est un estimateur statistique robuste.\n",
    "\n",
    "exemple:\n",
    "\n",
    "                     |                   |\n",
    "                     |       +-----+-+   | \n",
    "                     |-------|     | |---|\n",
    "                     |       +-----+-+   |\n",
    "                     |                   | \n",
    " +---+---+---+---+---+---+---+---+---+---+---+---+-->\n",
    " 0   1   2   3   4   5   6   7   8   9   10  11  12\n",
    " \n",
    " Cette boîte à moustaches sommaire montre :\n",
    "\n",
    "    premier quartile Q 1 = 7 \n",
    "    deuxième quartile (médiane) Q 2 = 8 , 6\n",
    "    troisième quartile Q 3 = 9\n",
    "    écart interquartile Q 3 − Q 1 = 2"
   ]
  },
  {
   "cell_type": "markdown",
   "metadata": {},
   "source": [
    "## La covariance\n",
    "\n",
    "- Definition\n",
    "- Exemple pratique"
   ]
  },
  {
   "cell_type": "raw",
   "metadata": {},
   "source": [
    "En théorie des probabilités et en statistique, la covariance entre deux variables aléatoires est un nombre permettant de quantifier leurs écarts conjoints par rapport à leurs espérances respectives. Elle s’utilise également pour deux séries de données numériques (écarts par rapport aux moyennes).\n",
    "\n",
    "La covariance est une extention de la notion de variance\n",
    "\n",
    "Intuitivement, la covariance caractérise les variations simultanées de deux variables aléatoires : elle sera positive lorsque les écarts entre les variables et leurs moyennes ont tendance à être de même signe, négative dans le cas contraire.\n",
    "\n",
    "À titre d'exemple, la dispersion d'un ensemble de points aléatoires dans un espace à deux dimensions ne peut pas être totalement caractérisée par un seul nombre, ni par les seules variances dans les directions x et y ; une matrice 2 × 2 permet d’appréhender pleinement la nature bidimensionnelle des variations. "
   ]
  },
  {
   "cell_type": "markdown",
   "metadata": {},
   "source": [
    "## Le coefficient de corrélation de pearson\n",
    "\n",
    "- Definition\n",
    "- Exemple pratique"
   ]
  },
  {
   "cell_type": "markdown",
   "metadata": {},
   "source": [
    "En statistique, le coefficient de corrélation de Pearson, également appelé r de Pearson, le coefficient de corrélation produit-moment de Pearson, ou la corrélation bivariée, est une statistique qui mesure la corrélation linéaire entre deux variables X et Y. Il a une valeur comprise entre +1 et -1.\n",
    "\n",
    "![correlation de pearson](..\\images\\Cor_de_pearson.png)"
   ]
  },
  {
   "cell_type": "markdown",
   "metadata": {},
   "source": [
    "## La boite à moustache\n",
    "\n",
    "- Definition\n",
    "- Exemple pratique"
   ]
  },
  {
   "cell_type": "raw",
   "metadata": {},
   "source": [
    "Dans les représentations graphiques de données statistiques, la boîte à moustaches est un moyen rapide de figurer le profil essentiel d'une série statistique quantitative.\n",
    "\n",
    "exemple:\n",
    "\n",
    "                     |                   |\n",
    "                     |       +-----+-+   | \n",
    "                     |-------|     | |---|\n",
    "                     |       +-----+-+   |\n",
    "                     |                   | \n",
    " +---+---+---+---+---+---+---+---+---+---+---+---+-->\n",
    " 0   1   2   3   4   5   6   7   8   9   10  11  12\n",
    " \n",
    " Cette boîte à moustaches sommaire montre :\n",
    "\n",
    "    premier quartile Q 1 = 7 \n",
    "    deuxième quartile (médiane) Q 2 = 8 , 6\n",
    "    troisième quartile Q 3 = 9\n",
    "    écart interquartile Q 3 − Q 1 = 2"
   ]
  },
  {
   "cell_type": "code",
   "execution_count": null,
   "metadata": {},
   "outputs": [],
   "source": []
  }
 ],
 "metadata": {
  "kernelspec": {
   "display_name": "Python 3",
   "language": "python",
   "name": "python3"
  },
  "language_info": {
   "codemirror_mode": {
    "name": "ipython",
    "version": 3
   },
   "file_extension": ".py",
   "mimetype": "text/x-python",
   "name": "python",
   "nbconvert_exporter": "python",
   "pygments_lexer": "ipython3",
   "version": "3.8.3"
  }
 },
 "nbformat": 4,
 "nbformat_minor": 4
}
