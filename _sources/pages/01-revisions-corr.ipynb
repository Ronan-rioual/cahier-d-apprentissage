{
 "cells": [
  {
   "cell_type": "markdown",
   "metadata": {},
   "source": [
    "## Exercice : la moyenne\n",
    "\n",
    "Soit la liste `lst_temperatures = [12, 13, 14, 28]`, écrire un programme qui permet de calculer la moyenne de ces valeurs :\n",
    "\n",
    "- Avec une boucle `for`\n",
    "- Avec une boucle `while`"
   ]
  },
  {
   "cell_type": "code",
   "execution_count": 1,
   "metadata": {
    "slideshow": {
     "slide_type": "subslide"
    }
   },
   "outputs": [
    {
     "name": "stdout",
     "output_type": "stream",
     "text": [
      "Voici la moyenne : 16.75\n",
      "Voici la moyenne : 16.75\n"
     ]
    }
   ],
   "source": [
    "# version for\n",
    "lst_temperatures = [12, 13, 14, 28]\n",
    "somme = 0\n",
    "for temperature in lst_temperatures:\n",
    "      somme += temperature # somme=somme+temperature\n",
    "moyenne = somme / len(lst_temperatures)\n",
    "print(f\"Voici la moyenne : {moyenne}\")\n",
    "\n",
    "# version while\n",
    "i = 0\n",
    "somme = 0\n",
    "nb_temperatures = len(lst_temperatures)\n",
    "while i < nb_temperatures:\n",
    "    somme += lst_temperatures[i] # somme=somme+lst_temperatures[i]\n",
    "    i += 1 # i =i+1\n",
    "moyenne = somme / len(lst_temperatures)\n",
    "print(f\"Voici la moyenne : {moyenne}\")"
   ]
  },
  {
   "cell_type": "markdown",
   "metadata": {},
   "source": [
    "## Exercice : les jours de la semaine\n",
    "\n",
    "Constituer une liste contenant le nom des sept jours de la semaine. À partir de cette liste comment peut-on récupérer :\n",
    "\n",
    "- Les 5 premiers jours de la semaine\n",
    "- Ceux du week-end\n",
    "- Uniquement le dernier élément\n",
    "- Tous les éléments sauf le dernier \n",
    "\n",
    "Indications :\n",
    "\n",
    "- Tester vos propositions\n",
    "- Quel est le type des éléments renvoyés ?"
   ]
  },
  {
   "cell_type": "code",
   "execution_count": 2,
   "metadata": {},
   "outputs": [
    {
     "name": "stdout",
     "output_type": "stream",
     "text": [
      "['lundi', 'mardi', 'mercredi', 'jeudi', 'vendredi']\n",
      "['samedi', 'dimanche']\n",
      "dimanche\n",
      "['lundi', 'mardi', 'mercredi', 'jeudi', 'vendredi', 'samedi']\n"
     ]
    }
   ],
   "source": [
    "jours = [\"lundi\", \"mardi\", \"mercredi\", \"jeudi\", \"vendredi\", \"samedi\", \"dimanche\"]\n",
    "print(jours[:5]) # ou print(jours[:-2])\n",
    "print(jours[-2:])\n",
    "print(jours[-1])\n",
    "print(jours[:-1])"
   ]
  },
  {
   "cell_type": "markdown",
   "metadata": {},
   "source": [
    "## Exercice : inversion de l'ordre d'une liste\n",
    "Soit une liste quelconque d'éléments, écrire un programme qui en inverse l'ordre. On utilisera une seule liste pour effectuer l'opération."
   ]
  },
  {
   "cell_type": "code",
   "execution_count": 1,
   "metadata": {},
   "outputs": [
    {
     "name": "stdout",
     "output_type": "stream",
     "text": [
      "[6, 5, 4, 3, 2, 1]\n"
     ]
    }
   ],
   "source": [
    "lst = [1, 2, 3, 4, 5, 6]\n",
    "lg_lst = len(lst)\n",
    "\n",
    "i = 0\n",
    "while i < lg_lst/2:\n",
    "    # Echange des valeurs\n",
    "    tmp = lst[i]\n",
    "    lst[i] = lst[lg_lst-i-1]\n",
    "    lst[lg_lst-i-1] = tmp\n",
    "    i += 1\n",
    "print(lst)"
   ]
  },
  {
   "cell_type": "code",
   "execution_count": null,
   "metadata": {},
   "outputs": [],
   "source": [
    "# Version plus rapide sans passer (explicitement) par une variable temporaire\n",
    "lst = [1, 2, 3, 4, 5, 6]\n",
    "lg_lst = len(lst)\n",
    "i = 0\n",
    "while i < lg_lst/2:\n",
    "    # Echange des valeurs\n",
    "    lst[i], lst[lg_lst-i-1] = lst[lg_lst-i-1], lst[i]\n",
    "    i += 1\n",
    "print(lst)"
   ]
  },
  {
   "cell_type": "markdown",
   "metadata": {},
   "source": [
    "## Exercice : nombres pairs et impairs dans des listes\n",
    "On souhaite stocker dans deux listes différentes les nombres saisis par l'utilisateur selon s'il s'agit d'un nombre pair ou d'un nombre impair. Le programme se terminera lorsque l'utilisateur aura entré la valeur `-1`."
   ]
  },
  {
   "cell_type": "code",
   "execution_count": 2,
   "metadata": {},
   "outputs": [
    {
     "name": "stdout",
     "output_type": "stream",
     "text": [
      "Valeur ? 4\n",
      "Valeur ? 6\n",
      "Valeur ? 5\n",
      "Valeur ? 8\n",
      "Valeur ? 7\n",
      "Valeur ? 9\n",
      "Valeur ? -1\n",
      "Nombres impairs: [5, 7, 9]\n",
      "Nombres pairs: [4, 6, 8]\n"
     ]
    }
   ],
   "source": [
    "lst_impairs = []\n",
    "lst_pairs = []\n",
    "\n",
    "valeur = None\n",
    "while valeur != \"-1\":\n",
    "    valeur = input(\"Valeur ? \") # le type est une chaine de caractéres \n",
    "    if valeur != \"-1\":\n",
    "        nombre = int(valeur)\n",
    "        if nombre % 2 == 0:\n",
    "            lst_pairs.append(nombre)\n",
    "        else:\n",
    "            lst_impairs.append(nombre)\n",
    "print(f\"Nombres impairs: {lst_impairs}\")\n",
    "print(f\"Nombres pairs: {lst_pairs}\")"
   ]
  },
  {
   "cell_type": "markdown",
   "metadata": {},
   "source": [
    "Le programme ci-dessus fonctionne, mais il ne gère pas les erreurs de saisie. En effet si l'utilisateur ne saisit pas un nombre, le programme s'interrompt brutalement (erreur Python).\n",
    "En Python, on peut contrôler si une valeur est numérique avec la **méthode** `isnumeric()` qui s'applique (uniquement) sur une chaîne de caractères et qui renvoie `True` ou `False`.\n",
    "\n",
    "Exemples :\n",
    "\n",
    "```python\n",
    "valeur = \"1\"\n",
    "valeur.isnumeric()  # True\n",
    "valeur = \"a\"\n",
    "valeur.isnumeric()  # False\n",
    "valeur = \"-1\"\n",
    "valeur.isnumeric()  # False\n",
    "valeur = 1\n",
    "valeur.isnumeric()  # Erreur !\n",
    "```\n",
    "\n",
    "En utilisant `isnumeric()`, modifier le programme ci-dessus afin d'afficher un message d'erreur à l'utilisateur s'il saisit une valeur non numérique."
   ]
  },
  {
   "cell_type": "code",
   "execution_count": null,
   "metadata": {},
   "outputs": [],
   "source": [
    "lst_impairs = []\n",
    "lst_pairs = []\n",
    "\n",
    "valeur = None\n",
    "while valeur != \"-1\":\n",
    "    valeur = input(\"Valeur ? \")\n",
    "    if valeur != \"-1\":\n",
    "        if not valeur.isnumeric():\n",
    "            print(\"Erreur, merci de saisir une valeur numérique !\")\n",
    "        else:\n",
    "            # Ici je suis sûr que valeur contient une valeur numérique\n",
    "            # Donc je peux faire la conversion explicite\n",
    "            nombre = int(valeur)\n",
    "            if nombre % 2 == 0:\n",
    "                lst_pairs.append(nombre)\n",
    "            else:\n",
    "                lst_impairs.append(nombre)\n",
    "\n",
    "print(f\"Nombres impairs: {lst_impairs}\")\n",
    "print(f\"Nombres pairs: {lst_pairs}\")"
   ]
  },
  {
   "cell_type": "markdown",
   "metadata": {},
   "source": [
    "## Exercice : des étoiles\n",
    "Ecrire un programme qui permet d'afficher un \"graphique\" de ce type :\n",
    "```\n",
    "*\n",
    "**\n",
    "***\n",
    "****\n",
    "*****\n",
    "```\n",
    "\n",
    "- Le nombre d'étoiles sera défini au préalable dans une variable.\n",
    "- Faire une version avec une boucle `for` et une version avec avec une boucle `while`."
   ]
  },
  {
   "cell_type": "code",
   "execution_count": 10,
   "metadata": {},
   "outputs": [
    {
     "name": "stdout",
     "output_type": "stream",
     "text": [
      "*\n",
      "**\n",
      "***\n",
      "****\n",
      "*****\n"
     ]
    }
   ],
   "source": [
    "# Version for\n",
    "nb_etoiles = 5\n",
    "for i in range(1, nb_etoiles+1): # car range(1,5) => 1 2 3 4 \n",
    "    for k in range(i):\n",
    "        print('*', end='')  # On ne va pas à la ligne\n",
    "    print(\"\")  # Pour aller à la ligne"
   ]
  },
  {
   "cell_type": "code",
   "execution_count": 6,
   "metadata": {},
   "outputs": [
    {
     "name": "stdout",
     "output_type": "stream",
     "text": [
      "*\n",
      "**\n",
      "***\n",
      "****\n",
      "*****\n"
     ]
    }
   ],
   "source": [
    "# Version while\n",
    "\n",
    "nb_etoiles = 5\n",
    "compteur1 = 0\n",
    "\n",
    "while compteur1 < nb_etoiles:\n",
    "    compteur2 = 0    \n",
    "    while compteur2 < compteur1 + 1:\n",
    "        print(\"*\", end='')        \n",
    "        compteur2 += 1\n",
    "        \n",
    "    print(\"\")\n",
    "    compteur1 += 1"
   ]
  },
  {
   "cell_type": "code",
   "execution_count": 8,
   "metadata": {},
   "outputs": [
    {
     "name": "stdout",
     "output_type": "stream",
     "text": [
      "*\n",
      "**\n",
      "***\n",
      "****\n",
      "*****\n"
     ]
    }
   ],
   "source": [
    "nb_etoiles = 5\n",
    "compteur1 = 1\n",
    "\n",
    "while compteur1<=nb_etoiles:\n",
    "    print(compteur1*\"*\")\n",
    "    compteur1+=1"
   ]
  },
  {
   "cell_type": "markdown",
   "metadata": {},
   "source": [
    "## Exercice : copie de listes\n",
    "\n",
    "Etant données deux listes, on souhaite copier la première dans la deuxième et ainsi pouvoir modifier une valeur dans la deuxième liste sans que cela ne modifie la première.\n",
    "\n",
    "- `lst1 = [1, 2, 3]`.\n",
    "- On copie `lst1` dans `lst2`.\n",
    "- On modifie le premier élément de `lst2` en mettant la valeur `4`.\n",
    "- On doit obtenir :\n",
    "  - `lst1` : `[1, 2, 3]` (inchangée)\n",
    "  - `lst2` : `[4, 2, 3]`\n",
    "\n",
    "Le programme suivant a été écrit :\n",
    "\n",
    "```python\n",
    "lst1 = [1, 2, 3]\n",
    "lst2 = lst1\n",
    "lst2[0] = 4\n",
    "print(lst2)\n",
    "print(lst1)\n",
    "```\n",
    "\n",
    "- Que remarquez-vous ?\n",
    "- Modifiez le pour qu'il réponde au problème posé."
   ]
  },
  {
   "cell_type": "code",
   "execution_count": 5,
   "metadata": {},
   "outputs": [
    {
     "name": "stdout",
     "output_type": "stream",
     "text": [
      "[1, 2, 3]\n",
      "[4, 2, 3]\n"
     ]
    }
   ],
   "source": [
    "# Version \"algorithmique\"\n",
    "\n",
    "lst1 = [1, 2, 3]\n",
    "lst2 = []\n",
    "for elem in lst1:\n",
    "    lst2.append(elem)\n",
    "lst2[0] = 4\n",
    "print(lst1)\n",
    "print(lst2)\n"
   ]
  },
  {
   "cell_type": "code",
   "execution_count": 1,
   "metadata": {},
   "outputs": [
    {
     "name": "stdout",
     "output_type": "stream",
     "text": [
      "[1, 2, 3]\n",
      "[4, 2, 3]\n"
     ]
    }
   ],
   "source": [
    "# Autre version\n",
    "lst1 = [1, 2, 3]\n",
    "lst2 = []\n",
    "lst2.extend(lst1)\n",
    "lst2[0] = 4\n",
    "print(lst1)\n",
    "print(lst2)"
   ]
  },
  {
   "cell_type": "code",
   "execution_count": 2,
   "metadata": {},
   "outputs": [
    {
     "name": "stdout",
     "output_type": "stream",
     "text": [
      "[1, 2, 3]\n",
      "[4, 2, 3]\n"
     ]
    }
   ],
   "source": [
    "# Version Pythonique\n",
    "\n",
    "lst1 = [1, 2, 3]\n",
    "lst2 = lst1[:]\n",
    "lst2[0] = 4\n",
    "print(lst1)\n",
    "print(lst2)"
   ]
  },
  {
   "cell_type": "markdown",
   "metadata": {},
   "source": [
    "## Exercice : le jeu du + ou du -\n",
    "\n",
    "L'ordinateur choisit un nombre au hasard entre 1 et 100 et l'utilisateur doit deviner ce nombre mystère en respectant la règle suivante :\n",
    "\n",
    "- Version 1\n",
    "  - L'utilisateur propose un nombre.\n",
    "  - Le programme lui dit s'il est trop petit ou trop grand.\n",
    "  - Et ainsi de suite tant que l'utilisateur n'a pas trouvé le nombre mystère.\n",
    "- Version 2\n",
    "  - Ajouter une gestion d'erreur si l'utilisateur ne rentre pas un nombre entre 1 et 100 ou s'il rentre autre chose qu'un nombre.\n",
    "- Version 3\n",
    "  - Indiquer à l'utilisateur en combien de coups il a trouvé le nombre mystère."
   ]
  },
  {
   "cell_type": "code",
   "execution_count": 23,
   "metadata": {},
   "outputs": [
    {
     "name": "stdout",
     "output_type": "stream",
     "text": [
      "Devinez le nombre mystère ? 2\n",
      "2 est trop petit !\n",
      "Devinez le nombre mystère ? 4\n",
      "Félicitations, le nombre mystère est bien 4 \n"
     ]
    }
   ],
   "source": [
    "# Version 1\n",
    "import random\n",
    "\n",
    "nombre_a_deviner = random.randint(1, 5)\n",
    "#print(f\"Nombre de Base: {nombre_a_deviner}\\n \\n\")\n",
    "nombre_entre=0\n",
    "while (nombre_entre != nombre_a_deviner) :\n",
    "    nombre_entre = int(input(\"Devinez le nombre mystère ? \"))\n",
    "    if (nombre_entre < nombre_a_deviner):\n",
    "        print (f\"{nombre_entre} est trop petit !\")\n",
    "    elif (nombre_entre > nombre_a_deviner):\n",
    "        print (f\"{nombre_entre} est trop grand!\")\n",
    "    else :\n",
    "        print (f\"Félicitations, le nombre mystère est bien {nombre_entre} \")    "
   ]
  },
  {
   "cell_type": "markdown",
   "metadata": {},
   "source": [
    "## Exercice : des étoiles (avec fonction)\n",
    "Reprendre [l'exercice sur les étoiles](#exercice-des-etoiles), mais en l'intégrant dans une fonction `affiche_etoiles` qui prend en paramètres le nombre d'étoiles."
   ]
  },
  {
   "cell_type": "code",
   "execution_count": null,
   "metadata": {},
   "outputs": [],
   "source": [
    "def affiche_etoiles(nb_etoiles):\n",
    "    for i in range(nb_etoiles+1):\n",
    "        for k in range(i):\n",
    "            print('*', end='')  # On ne va pas à la ligne\n",
    "        print(\"\")  # Pour aller à la ligne\n",
    "\n",
    "affiche_etoiles(10)"
   ]
  },
  {
   "cell_type": "markdown",
   "metadata": {},
   "source": [
    "## Exercice : `print` ou `return` ?\n",
    "\n",
    "### Version 1\n",
    "Dans un programme principal, on a écrit la commande suivante : `print(function1(5))`. Écrire la fonction\n",
    "`function1` de telle sorte que l'exécution de la commande précédente affiche comme résultat **6** dans l'interpréteur\n",
    "Python.\n",
    "\n",
    "### Version 2\n",
    "Dans un programme principal, on a écrit la commande suivante : `function2(5)`. Écrire la fonction `function2`\n",
    "de telle sorte que l’exécution de la commande précédente affiche comme résultat **6** dans l’interpréteur Python."
   ]
  },
  {
   "cell_type": "code",
   "execution_count": 7,
   "metadata": {},
   "outputs": [
    {
     "name": "stdout",
     "output_type": "stream",
     "text": [
      "6\n",
      "6\n"
     ]
    }
   ],
   "source": [
    "def function1(val):\n",
    "    return val+1\n",
    "\n",
    "def function2(val):\n",
    "    print(val+1)\n",
    "    \n",
    "print(function1(5))\n",
    "function2(5)"
   ]
  },
  {
   "cell_type": "markdown",
   "metadata": {},
   "source": [
    "## Exercice : fonction du maximum\n",
    "Ecrire une fonction `mon_maximum` qui prend en entrée une liste de valeurs et qui renvoie le maximum ainsi que son indice dans la liste."
   ]
  },
  {
   "cell_type": "code",
   "execution_count": 2,
   "metadata": {},
   "outputs": [
    {
     "name": "stdout",
     "output_type": "stream",
     "text": [
      "(None, None)\n",
      "(3, 2)\n",
      "(3, 1)\n"
     ]
    }
   ],
   "source": [
    "def mon_maximum(liste):\n",
    "    if len(liste) == 0:\n",
    "        return None, None\n",
    "\n",
    "    position = 0\n",
    "    val_max = liste[0]\n",
    "    i = 0\n",
    "    for elem in liste:\n",
    "        if elem > val_max:\n",
    "            val_max = elem\n",
    "            indice = i\n",
    "        i += 1\n",
    "    return val_max, indice\n",
    "\n",
    "print(mon_maximum([]))\n",
    "print(mon_maximum([1, 2, 3]))\n",
    "print(mon_maximum([2, 3, 1]))"
   ]
  },
  {
   "cell_type": "markdown",
   "metadata": {},
   "source": [
    "## Exercice : que fait ce programme (1) ?\n",
    "\n",
    "**Sans écrire** ce programme indiquez ce que produit le programme suivant à l'écran :\n",
    "\n",
    "```python\n",
    "def compute1(a, b):\n",
    "    add1 = a + b\n",
    "    return add1\n",
    "\n",
    "def compute2(a, b):\n",
    "    add2 = a + b\n",
    "\n",
    "res1 = compute1(4, 5)\n",
    "print(res1)\n",
    "\n",
    "res2 = compute2(5, 6)\n",
    "print(res2)\n",
    "\n",
    "print(add2)\n",
    "```"
   ]
  },
  {
   "cell_type": "code",
   "execution_count": 9,
   "metadata": {},
   "outputs": [
    {
     "name": "stdout",
     "output_type": "stream",
     "text": [
      "None\n"
     ]
    }
   ],
   "source": [
    "\n",
    "def compute1(a, b):\n",
    "    add1 = a + b\n",
    "    return add1\n",
    "\n",
    "def compute2(a, b):\n",
    "    add2 = a + b\n",
    "    \n",
    "    \n",
    "res2 = compute2(5, 6)\n",
    "print(res2)\n",
    "\n",
    "print(add2)"
   ]
  },
  {
   "cell_type": "markdown",
   "metadata": {},
   "source": [
    "## Exercice : la balance\n",
    "Ecrire un programme qui en fonction du poids d'un coli, nous donne le prix de l'envoi.\n",
    "\n",
    "- Ecrire une fonction `lit_poids` qui renvoie le poids du coli (dans notre cas on simulera la pesée en demandant le poids à l'utilisateur).\n",
    "- Ecrire une fonction `donne_prix` qui renvoie le prix du coli en fonction de son poids :\n",
    "  - poids inférieur à 100 g : 2 €\n",
    "  - poids compris entre 100 et 500 g : 5 €\n",
    "  - poids compris entre 500 et 1000 g : 10 €\n",
    "  - poids compris entre 1000 et 30000 g : 30 €\n",
    "\n",
    "- Au-delà de 30 kg, on indiquera une erreur à l'utilisateur. Ce n'est pas la fonction `donne_prix` qui effectuera l'affichage de l'erreur, mais le programme principal."
   ]
  },
  {
   "cell_type": "code",
   "execution_count": 7,
   "metadata": {},
   "outputs": [
    {
     "name": "stdout",
     "output_type": "stream",
     "text": [
      "Saisissez le poids : 123\n",
      "Le prix à payer est : 5 €\n"
     ]
    }
   ],
   "source": [
    "def lit_poids():\n",
    "    while True:\n",
    "        valeur = input(\"Saisissez le poids : \")\n",
    "        if not valeur.isnumeric():\n",
    "            print(\"Valeur incorrecte\")\n",
    "        else:\n",
    "            # On sort \"brutalement\" de la boucle\n",
    "            return float(valeur)\n",
    "\n",
    "def donne_prix(poids):\n",
    "    if poids < 100:\n",
    "        return 2\n",
    "    if 100 < poids <= 500:\n",
    "        return 5\n",
    "    if 500 < poids <= 1000:\n",
    "        return 10\n",
    "    if 1000 < poids <= 30000:\n",
    "        return 30\n",
    "    return None\n",
    "\n",
    "# Programme principal\n",
    "poids_lu = lit_poids()\n",
    "prix = donne_prix(poids_lu)\n",
    "if prix is None:\n",
    "    print(\"Poids non pris en charge\")\n",
    "else:\n",
    "    print(f\"Le prix à payer est : {prix} €\")"
   ]
  },
  {
   "cell_type": "markdown",
   "metadata": {},
   "source": [
    "## Exercice : le palindrome\n",
    "Le palindrome est une figure de style désignant un texte ou un mot dont l'ordre des lettres reste le même qu'on le lise de gauche à droite ou de droite à gauche (plus d'informations sur [Wikipédia](https://fr.wikipedia.org/wiki/Palindrome)). Exemples de mots : \"ici\", \"kayak\", \"Laval\", ...\n",
    "\n",
    "Ecrire une fonction `est_palindrome` qui prend en paramètre une chaîne de caractères et qui renvoie `True` ou `False`.\n",
    "\n",
    "- Faire un jeu de tests dans le programme principal avec une liste de mots.\n",
    "- Penser à ignorer les majuscules / minuscules."
   ]
  },
  {
   "cell_type": "code",
   "execution_count": 8,
   "metadata": {},
   "outputs": [
    {
     "name": "stdout",
     "output_type": "stream",
     "text": [
      "ici est un palindrome: True\n",
      "kayak est un palindrome: True\n",
      "bonjour est un palindrome: False\n",
      "Laval est un palindrome: True\n"
     ]
    }
   ],
   "source": [
    "# 1ère version, la plus \"académique\"\n",
    "\n",
    "def est_palindrome(mot):\n",
    "    i = 0\n",
    "    lettre_identique = True\n",
    "    while i < len(mot)/2 and lettre_identique:\n",
    "        if mot[i] != mot[len(mot)-1-i] :\n",
    "            lettre_identique = False\n",
    "        else :\n",
    "            i = i + 1\n",
    "    return lettre_identique\n",
    "\n",
    "# PP pour les tests\n",
    "mots = ['ici', 'kayak', 'bonjour', 'Laval']\n",
    "for mot in mots:\n",
    "    print(f\"{mot} est un palindrome: {est_palindrome(mot.strip().lower())}\")"
   ]
  },
  {
   "cell_type": "code",
   "execution_count": 9,
   "metadata": {},
   "outputs": [
    {
     "name": "stdout",
     "output_type": "stream",
     "text": [
      "ici est un palindrome: True\n",
      "kayak est un palindrome: True\n",
      "bonjour est un palindrome: False\n",
      "Laval est un palindrome: True\n"
     ]
    }
   ],
   "source": [
    "# 2ème version, la plus \"pratique\"\n",
    "\n",
    "def est_palindrome(mot):\n",
    "    i = 0\n",
    "    while i < len(mot)/2:\n",
    "        if mot[i] != mot[len(mot)-1-i] :\n",
    "            return False\n",
    "        i += 1\n",
    "    return True\n",
    "\n",
    "# PP pour les tests\n",
    "mots = ['ici', 'kayak', 'bonjour', 'Laval']\n",
    "for mot in mots:\n",
    "    print(f\"{mot} est un palindrome: {est_palindrome(mot.strip().lower())}\")"
   ]
  },
  {
   "cell_type": "markdown",
   "metadata": {},
   "source": [
    "## Exercice : tri de mots\n",
    "\n",
    "Soit la chaîne de cararactères contenant les mots suivants : \"python physique maths anglais\".\n",
    "Ecrire une fonction `tri_mots` qui prend en paramètre une chaîne contenant des mots dans un ordre quelconque et qui retourne une chaîne avec des mots triés par ordre alphabétique."
   ]
  },
  {
   "cell_type": "code",
   "execution_count": 11,
   "metadata": {},
   "outputs": [
    {
     "name": "stdout",
     "output_type": "stream",
     "text": [
      "['python', 'physique', 'maths', 'anglais']\n",
      "['anglais', 'maths', 'physique', 'python']\n"
     ]
    },
    {
     "data": {
      "text/plain": [
       "'anglais maths physique python'"
      ]
     },
     "execution_count": 11,
     "metadata": {},
     "output_type": "execute_result"
    }
   ],
   "source": [
    "def tri_mots(phrase):\n",
    "    lst = phrase.split()\n",
    "    print(lst)\n",
    "    lst.sort()\n",
    "    print(lst)\n",
    "    return \" \".join(lst)\n",
    "\n",
    "mots = \"python physique maths anglais\"\n",
    "tri_mots(mots) "
   ]
  },
  {
   "cell_type": "code",
   "execution_count": 3,
   "metadata": {},
   "outputs": [
    {
     "data": {
      "text/plain": [
       "'anglais maths physique python'"
      ]
     },
     "execution_count": 3,
     "metadata": {},
     "output_type": "execute_result"
    }
   ],
   "source": [
    "mots = \"python physique maths anglais\"\n",
    "tri_mots(mots) "
   ]
  },
  {
   "cell_type": "markdown",
   "metadata": {},
   "source": [
    "## Introduction aux tests unitaires : l'instruction `assert`\n",
    "Un des principaux problèmes de la programmation informatique est la détection de dysfonctionnements (bugs). Pour pallier à cela, on peut écrire des tests qui \"garantissent\" que le programme fonctionne conformément à nos attentes et qu'il fonctionne toujours même après si des modifications ont été apportées (par exemple des améliorations).\n",
    "\n",
    "Pour effectuer ces vérifications, on peut insérer des `print`. Cependant cela requiert que le programmeur vérifie à l'écran ce qui se passe, ce qui n'est ni commode ni très fiable.\n",
    "\n",
    "Une alternative (rudimentaire) est d'utiliser l'instruction `assert <condition_booléenne>`. Si la condition boolénne est fausse, le programme s'interrompera en provoquant une erreur.\n",
    "\n",
    "Exemple :\n",
    "```python\n",
    "a, b, c = True, False, True\n",
    "assert a  # Ok\n",
    "assert b  # Erreur et interruption du programme\n",
    "assert c  # Jamais exécutée car le programme a été interrompu\n",
    "```\n",
    "\n",
    "Autre exemple :\n",
    "```python\n",
    "mot = \"bonjour\"\n",
    "assert len(mot) == 7  # Ok\n",
    "```"
   ]
  },
  {
   "cell_type": "markdown",
   "metadata": {},
   "source": [
    "## Exercice : assert avec le palindrome\n",
    "\n",
    "Reprendre [l'exercice sur le palindrome](#exercice-le-palindrome) et dans le programme principal, utiliser l'instruction `assert` pour valider le bon résultat de la fonction `est_palindrome`.\n",
    "\n",
    "- Faire une version avec des listes\n",
    "- Faire une version avec des dictionnaires"
   ]
  },
  {
   "cell_type": "code",
   "execution_count": null,
   "metadata": {},
   "outputs": [],
   "source": [
    "# Tester la validité de notre fonction de façon \"automatisée\" avec assert\n",
    "# Version avec les listes\n",
    "def est_palindrome(mot):\n",
    "    i = 0\n",
    "    while i < len(mot)/2:\n",
    "        if mot[i] != mot[len(mot)-1-i] :\n",
    "            return False\n",
    "        i += 1\n",
    "    return True\n",
    "\n",
    "mots = ['ici', 'kayak', 'bonjour', 'Laval']\n",
    "palindromes = [True, True, False, True]\n",
    "\n",
    "for i, mot in enumerate(mots):\n",
    "    assert est_palindrome(mot.strip().lower()) == palindromes[i]"
   ]
  },
  {
   "cell_type": "code",
   "execution_count": null,
   "metadata": {},
   "outputs": [],
   "source": [
    "# Tester la validité de notre fonction de façon \"automatisée\" avec assert\n",
    "# Version avec les dictionnaires\n",
    "def est_palindrome(mot):\n",
    "    i = 0\n",
    "    while i < len(mot)/2:\n",
    "        if mot[i] != mot[len(mot)-1-i] :\n",
    "            return False\n",
    "        i += 1\n",
    "    return True\n",
    "\n",
    "d_mots = {'ici': True, 'kayak': True, 'bonjour': False, 'Laval': True}\n",
    "\n",
    "for mot, palindrome in d_mots.items():\n",
    "    assert est_palindrome(mot.strip().lower()) == palindrome"
   ]
  }
 ],
 "metadata": {
  "celltoolbar": "Tags",
  "kernelspec": {
   "display_name": "Python 3",
   "language": "python",
   "name": "python3"
  },
  "language_info": {
   "codemirror_mode": {
    "name": "ipython",
    "version": 3
   },
   "file_extension": ".py",
   "mimetype": "text/x-python",
   "name": "python",
   "nbconvert_exporter": "python",
   "pygments_lexer": "ipython3",
   "version": "3.7.7"
  }
 },
 "nbformat": 4,
 "nbformat_minor": 2
}
