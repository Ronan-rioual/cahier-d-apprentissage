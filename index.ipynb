{
 "cells": [
  {
   "cell_type": "markdown",
   "metadata": {},
   "source": [
    "# Cahier d'apprentissage\n",
    "## Par Ronan Rioual de la promo kusanagi"
   ]
  },
  {
   "cell_type": "markdown",
   "metadata": {},
   "source": [
    "## Table des matières\n",
    "\n",
    "* [Intro](#intro)\n",
    "* [Jupiter notebook](#jupyter)\n",
    "* [Markdown](#markdown)\n",
    "* [Le CMD](#powershell)\n",
    "* [Le langage Python](#python)\n",
    "    * [Anaconda](#anaconda)\n",
    "    * [Les ressources Python](#ressourcespy)\n",
    "* [Les bases de données](#bdd)\n",
    "    * [MySQL](#mysql)\n",
    "    * [PhpMyAdmin](#phpmy)\n",
    "* [Les Statistiques](#statistiques)\n",
    "* [L'algorithmie](#algo)"
   ]
  },
  {
   "cell_type": "markdown",
   "metadata": {},
   "source": [
    "## Intro <a class=\"anchor\" id=\"intro\"></a>"
   ]
  },
  {
   "cell_type": "markdown",
   "metadata": {},
   "source": [
    "Mes objectifs avec ce cahier sont de regrouper les informations qui m'ont aider à progresser, afin que je puisse les retrouver facilement en cas d'oublie"
   ]
  },
  {
   "cell_type": "markdown",
   "metadata": {},
   "source": [
    "### Jupyter notebook <a class=\"anchor\" id=\"jupyter\"></a>\n",
    "Un lien qui regroupe tout ce qu'il y a à savoir sur jupyter notebook\n",
    "\n",
    "lien expliquant comment intégrer une video au jupyter notebook : https://stackoverflow.com/questions/11804820/how-can-i-embed-a-youtube-video-on-github-wiki-pages\n",
    "\n",
    "https://jupyterbook.org/start/overview.html#anatomy-of-a-book"
   ]
  },
  {
   "cell_type": "markdown",
   "metadata": {},
   "source": [
    "### Markdown <a class=\"anchor\" id=\"markdown\"></a>\n",
    "Pour la mise en forme de jupyter notebook\n",
    "\n",
    "Page d'explications général : https://guides.github.com/features/mastering-markdown/\n",
    "\n",
    "Similaire au lien du dessus mais plus visuel : https://github.com/adam-p/markdown-here/wiki/Markdown-Cheatsheet\n",
    "\n",
    "\n",
    "Gérer une table des matières : https://moonbooks.org/Articles/Comment-creer-une-table-des-matieres-au-debut-dun-Jupyter-notebook-/"
   ]
  },
  {
   "cell_type": "markdown",
   "metadata": {},
   "source": [
    " ### Le CMD <a class=\"anchor\" id=\"powershell\"></a>\n",
    "Le terminal reste un outil très utilisé dans tous les environnements informatiques. En Data IA, il peut servirpour la gestion de BDD, l'exécution de script, le suivi de Notebook, le versionning avec GIT, l'installation depackage Python...\n",
    "\n",
    "https://docs.microsoft.com/fr-fr/windows-server/administration/windows-commands/windows-commands : Lien vers la documentaton officielle du cmd\n"
   ]
  },
  {
   "cell_type": "markdown",
   "metadata": {},
   "source": [
    "### Le langage Python <a class=\"anchor\" id=\"python\"></a>\n",
    "\n",
    "Le Python est le langage que nous utilisont le plus au sein de l'école simplon\n",
    "\n",
    "La doc officielle Python :  https://docs.python.org/fr/3/\n",
    "\n",
    "\n",
    "#### Anaconda <a class=\"anchor\" id=\"anaconda\"></a>\n",
    "Anaconda est une distribution libre et open source des langages de programmation Python et R appliqué au développement d'applications dédiées à la science des données et à l'apprentissage automatique, qui vise à simplifier la gestion des paquets et de déploiement, notemment pour les bibliothèques.\n",
    "\n",
    "#### Ressources Python <a class=\"anchor\" id=\"ressourcespy\"></a>\n",
    "\n",
    "Site d'entrainement au Python : https://www.kaggle.com/colinmorris/hello-python\n",
    "\n",
    "Ma page sololearn (entrainement python) : https://www.sololearn.com/play/python\n",
    "\n",
    "Dictionnaires Python : https://python.doctor/page-apprendre-dictionnaire-python\n",
    "\n",
    "Lien du site de l'université de Paris-diderot, ce sont des ressources sur python en français et bien expliquées : (ici indexé sur les dictionnaire)\n",
    "\n",
    "https://python.sdv.univ-paris-diderot.fr/13_dictionnaires_tuples_sets/\n",
    "\n",
    "#### Entrainement Python\n",
    "\n",
    "lien vers les pages d'entrainements en jupyter notebook : -- à compléter --\n",
    "\n",
    "#### Parcourir un dictionnaire de dictionnaire\n",
    "soit un dictionnaire {livre}, contenant un dictionnaire {values}\n",
    "\n",
    "    for values in livre.values():\n",
    "    \n",
    "        for val in values:\n",
    "        \n",
    "            print(val)\n",
    "On imprime toutes les valeurs du dictionnaire \"interne\""
   ]
  },
  {
   "cell_type": "markdown",
   "metadata": {},
   "source": [
    "### Les bases de données  <a class=\"anchor\" id=\"bdd\"></a>\n",
    "\n",
    "#### MySQL <a class=\"anchor\" id=\"mysql\"></a>\n",
    "\n",
    "MySQL est un système de gestion de bases de données relationnelles que nous utilisons beaucoup\n",
    "\n",
    "Site officiel de MySQL : https://dev.mysql.com/doc/refman/8.0/en/\n",
    "\n",
    "#### PhpMyAdmin <a class=\"anchor\" id=\"phpmy\"></a>\n",
    "\n",
    "PhpMyAdmin est une application Web de gestion pour les systèmes de gestion de base de données MySQ"
   ]
  },
  {
   "cell_type": "markdown",
   "metadata": {},
   "source": [
    "### Les Statistiques <a class=\"anchor\" id=\"statistiques\"></a>\n",
    "\n",
    "Lien vers les pages jupyter notebook sur les stats : -- à compléter --"
   ]
  },
  {
   "cell_type": "markdown",
   "metadata": {},
   "source": [
    "### L'algorithmie <a class=\"anchor\" id=\"algo\"></a>\n",
    "\n",
    "Lien vers des exercices corrigés d'algo : https://algo.developpez.com/exercices/"
   ]
  },
  {
   "cell_type": "code",
   "execution_count": null,
   "metadata": {},
   "outputs": [],
   "source": []
  }
 ],
 "metadata": {
  "kernelspec": {
   "display_name": "Python 3",
   "language": "python",
   "name": "python3"
  },
  "language_info": {
   "codemirror_mode": {
    "name": "ipython",
    "version": 3
   },
   "file_extension": ".py",
   "mimetype": "text/x-python",
   "name": "python",
   "nbconvert_exporter": "python",
   "pygments_lexer": "ipython3",
   "version": "3.8.3"
  }
 },
 "nbformat": 4,
 "nbformat_minor": 2
}
